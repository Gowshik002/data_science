{
  "nbformat": 4,
  "nbformat_minor": 0,
  "metadata": {
    "colab": {
      "name": "keras.ipynb",
      "provenance": [],
      "authorship_tag": "ABX9TyPAqJrpKjmtuHhUtc3pa/R1"
    },
    "kernelspec": {
      "name": "python3",
      "display_name": "Python 3"
    },
    "language_info": {
      "name": "python"
    }
  },
  "cells": [
    {
      "cell_type": "markdown",
      "source": [
        "EXAMPLE 1"
      ],
      "metadata": {
        "id": "f-AAwk24reSc"
      }
    },
    {
      "cell_type": "code",
      "execution_count": 5,
      "metadata": {
        "id": "XMBbt6p3QILS"
      },
      "outputs": [],
      "source": [
        "import tensorflow as tf"
      ]
    },
    {
      "cell_type": "code",
      "source": [
        "model=tf.keras.models.Sequential()\n",
        "model.add(tf.keras.Input(shape=(16,)))\n",
        "model.add(tf.keras.layers.Dense(16,activation='relu'))\n",
        "model.add(tf.keras.layers.Dense(1))\n",
        "model.output_shape"
      ],
      "metadata": {
        "colab": {
          "base_uri": "https://localhost:8080/"
        },
        "id": "kNH4VQPmCzTA",
        "outputId": "7cc61e08-ce45-4d81-d457-e6039b09ce31"
      },
      "execution_count": 6,
      "outputs": [
        {
          "output_type": "execute_result",
          "data": {
            "text/plain": [
              "(None, 1)"
            ]
          },
          "metadata": {},
          "execution_count": 6
        }
      ]
    },
    {
      "cell_type": "markdown",
      "source": [
        "EXAMPLE 2"
      ],
      "metadata": {
        "id": "j2_3GwlZriVD"
      }
    },
    {
      "cell_type": "code",
      "source": [
        "from keras.models import Sequential\n",
        "from keras.layers.core.activation import Activation\n",
        "from keras.layers import Dense\n",
        "\n",
        "model=Sequential([\n",
        "    Dense(5,activation='relu'),\n",
        "    Dense(10,activation='relu'),\n",
        "    Dense(15,),\n",
        "])"
      ],
      "metadata": {
        "id": "CV3zKtyNQyd0"
      },
      "execution_count": 11,
      "outputs": []
    },
    {
      "cell_type": "code",
      "source": [
        "x=tf.ones((5,20))\n",
        "y=model(x)\n",
        "print(\"number of weights:\",len(model.weights))\n",
        "model.summary()"
      ],
      "metadata": {
        "colab": {
          "base_uri": "https://localhost:8080/"
        },
        "id": "gV3qMJhKpgap",
        "outputId": "77c6f9d9-04cf-4d1e-886f-c700095c926b"
      },
      "execution_count": 12,
      "outputs": [
        {
          "output_type": "stream",
          "name": "stdout",
          "text": [
            "number of weights: 6\n",
            "Model: \"sequential_6\"\n",
            "_________________________________________________________________\n",
            " Layer (type)                Output Shape              Param #   \n",
            "=================================================================\n",
            " dense_14 (Dense)            (5, 5)                    105       \n",
            "                                                                 \n",
            " dense_15 (Dense)            (5, 10)                   60        \n",
            "                                                                 \n",
            " dense_16 (Dense)            (5, 15)                   165       \n",
            "                                                                 \n",
            "=================================================================\n",
            "Total params: 330\n",
            "Trainable params: 330\n",
            "Non-trainable params: 0\n",
            "_________________________________________________________________\n"
          ]
        }
      ]
    },
    {
      "cell_type": "markdown",
      "source": [
        "EXAMPLE 3"
      ],
      "metadata": {
        "id": "5xWwMToorpUr"
      }
    },
    {
      "cell_type": "code",
      "source": [
        "from keras.models import Sequential\n",
        "from keras.layers import Dense,Activation,Dropout\n",
        "from tensorflow.keras.optimizers import SGD\n",
        "import tensorflow.keras.utils as utils\n",
        "import numpy as np"
      ],
      "metadata": {
        "id": "04s3xnGgqxUC"
      },
      "execution_count": 14,
      "outputs": []
    },
    {
      "cell_type": "code",
      "source": [
        "x_train=np.random.random((1000,20))\n",
        "y_train=utils.to_categorical(np.random.randint(10,size=(1000,1)),num_classes=10)\n",
        "x_test=np.random.random((100,20))\n",
        "y_test=utils.to_categorical(np.random.randint(10,size=(100,1)),num_classes=10)"
      ],
      "metadata": {
        "id": "AdVpcOYctuyz"
      },
      "execution_count": 15,
      "outputs": []
    },
    {
      "cell_type": "code",
      "source": [
        "model=Sequential()\n",
        "model.add(Dense(64,activation='relu',input_dim=20))\n",
        "model.add(Dropout(0.5))\n",
        "model.add(Dense(64,activation='relu'))\n",
        "model.add(Dropout(0.5))\n",
        "model.add(Dense(10,activation='softmax'))\n",
        "\n",
        "sgd=SGD(lr=0.01,decay=1e-6)\n",
        "model.compile(loss='categorical_crossentropy',optimizer=sgd,metrics=['accuracy'])\n",
        "model.fit(x_train,y_train,epochs=20,batch_size=128)\n",
        "score=model.evaluate(x_test,y_test,batch_size=128)\n",
        "print(score)"
      ],
      "metadata": {
        "colab": {
          "base_uri": "https://localhost:8080/"
        },
        "id": "BaZNyb2Lu5ke",
        "outputId": "3acd74c1-97f1-4a43-c3c0-8fac8896c1df"
      },
      "execution_count": 16,
      "outputs": [
        {
          "output_type": "stream",
          "name": "stderr",
          "text": [
            "/usr/local/lib/python3.7/dist-packages/keras/optimizer_v2/gradient_descent.py:102: UserWarning: The `lr` argument is deprecated, use `learning_rate` instead.\n",
            "  super(SGD, self).__init__(name, **kwargs)\n"
          ]
        },
        {
          "output_type": "stream",
          "name": "stdout",
          "text": [
            "Epoch 1/20\n",
            "8/8 [==============================] - 1s 17ms/step - loss: 2.3828 - accuracy: 0.1090\n",
            "Epoch 2/20\n",
            "8/8 [==============================] - 0s 4ms/step - loss: 2.3801 - accuracy: 0.1110\n",
            "Epoch 3/20\n",
            "8/8 [==============================] - 0s 3ms/step - loss: 2.3721 - accuracy: 0.1130\n",
            "Epoch 4/20\n",
            "8/8 [==============================] - 0s 3ms/step - loss: 2.3731 - accuracy: 0.0970\n",
            "Epoch 5/20\n",
            "8/8 [==============================] - 0s 4ms/step - loss: 2.3579 - accuracy: 0.1030\n",
            "Epoch 6/20\n",
            "8/8 [==============================] - 0s 3ms/step - loss: 2.3477 - accuracy: 0.1060\n",
            "Epoch 7/20\n",
            "8/8 [==============================] - 0s 4ms/step - loss: 2.3471 - accuracy: 0.0960\n",
            "Epoch 8/20\n",
            "8/8 [==============================] - 0s 4ms/step - loss: 2.3687 - accuracy: 0.0810\n",
            "Epoch 9/20\n",
            "8/8 [==============================] - 0s 4ms/step - loss: 2.3623 - accuracy: 0.1010\n",
            "Epoch 10/20\n",
            "8/8 [==============================] - 0s 4ms/step - loss: 2.3534 - accuracy: 0.0960\n",
            "Epoch 11/20\n",
            "8/8 [==============================] - 0s 6ms/step - loss: 2.3375 - accuracy: 0.1070\n",
            "Epoch 12/20\n",
            "8/8 [==============================] - 0s 4ms/step - loss: 2.3385 - accuracy: 0.1130\n",
            "Epoch 13/20\n",
            "8/8 [==============================] - 0s 4ms/step - loss: 2.3361 - accuracy: 0.1040\n",
            "Epoch 14/20\n",
            "8/8 [==============================] - 0s 4ms/step - loss: 2.3444 - accuracy: 0.1010\n",
            "Epoch 15/20\n",
            "8/8 [==============================] - 0s 3ms/step - loss: 2.3310 - accuracy: 0.0980\n",
            "Epoch 16/20\n",
            "8/8 [==============================] - 0s 4ms/step - loss: 2.3344 - accuracy: 0.1140\n",
            "Epoch 17/20\n",
            "8/8 [==============================] - 0s 4ms/step - loss: 2.3363 - accuracy: 0.0920\n",
            "Epoch 18/20\n",
            "8/8 [==============================] - 0s 4ms/step - loss: 2.3262 - accuracy: 0.1180\n",
            "Epoch 19/20\n",
            "8/8 [==============================] - 0s 4ms/step - loss: 2.3396 - accuracy: 0.1100\n",
            "Epoch 20/20\n",
            "8/8 [==============================] - 0s 4ms/step - loss: 2.3329 - accuracy: 0.0960\n",
            "1/1 [==============================] - 0s 191ms/step - loss: 2.3241 - accuracy: 0.0700\n",
            "[2.324120283126831, 0.07000000029802322]\n"
          ]
        }
      ]
    }
  ]
}