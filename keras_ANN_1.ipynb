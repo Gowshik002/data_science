{
  "nbformat": 4,
  "nbformat_minor": 0,
  "metadata": {
    "colab": {
      "name": "keras_ANN_1.ipynb",
      "provenance": [],
      "authorship_tag": "ABX9TyN5Rf7LG4RsuTx3zQS8gw2Q"
    },
    "kernelspec": {
      "name": "python3",
      "display_name": "Python 3"
    },
    "language_info": {
      "name": "python"
    }
  },
  "cells": [
    {
      "cell_type": "code",
      "execution_count": 2,
      "metadata": {
        "id": "OGo75Q_jQhyG"
      },
      "outputs": [],
      "source": [
        "from keras.datasets import mnist\n",
        "from keras.models import Sequential\n",
        "from keras.layers import Dense,Activation\n",
        "from keras.utils.np_utils import to_categorical\n",
        "from tensorflow.keras.optimizers import SGD\n",
        "from sklearn.model_selection import train_test_split\n",
        "import matplotlib.pyplot as plt"
      ]
    },
    {
      "cell_type": "code",
      "source": [
        "(x_train,y_train),(x_test,y_test)=mnist.load_data()\n",
        "print(x_train.shape[0])\n",
        "print(x_train.shape[1])\n",
        "print(x_train.shape[2])\n",
        "\n",
        "x_train=x_train.reshape((x_train.shape[0],x_train.shape[1]*x_train.shape[2]))\n",
        "x_test=x_test.reshape((x_test.shape[0],x_test.shape[1]*x_test.shape[2]))\n",
        "print(x_train.shape[0])\n",
        "print(x_train.shape[1])"
      ],
      "metadata": {
        "colab": {
          "base_uri": "https://localhost:8080/"
        },
        "id": "rMH0DBHwTbxF",
        "outputId": "5b114c58-c231-4a59-888f-8bfd3b649ffc"
      },
      "execution_count": 6,
      "outputs": [
        {
          "output_type": "stream",
          "name": "stdout",
          "text": [
            "60000\n",
            "28\n",
            "28\n",
            "60000\n",
            "784\n"
          ]
        }
      ]
    },
    {
      "cell_type": "code",
      "source": [
        "y_train=to_categorical(y_train)\n",
        "y_test=to_categorical(y_test)\n",
        "\n",
        "x_train,_,y_train,_=train_test_split(x_train,y_train,test_size=0.67,random_state=7)"
      ],
      "metadata": {
        "id": "F7f3VyKfVBPk"
      },
      "execution_count": 7,
      "outputs": []
    },
    {
      "cell_type": "code",
      "source": [
        "model=Sequential()\n",
        "\n",
        "model.add(Dense(50,input_shape=(784, )))\n",
        "model.add(Activation('sigmoid'))\n",
        "model.add(Dense(50))\n",
        "model.add(Activation('sigmoid'))\n",
        "model.add(Dense(50))\n",
        "model.add(Activation('sigmoid'))\n",
        "model.add(Dense(50))\n",
        "model.add(Activation('sigmoid'))\n",
        "model.add(Dense(10))\n",
        "model.add(Activation('softmax'))"
      ],
      "metadata": {
        "id": "b9nxPnM_VkII"
      },
      "execution_count": 8,
      "outputs": []
    },
    {
      "cell_type": "code",
      "source": [
        "sgd=SGD(lr =0.001)\n",
        "model.compile(optimizer=sgd,loss='categorical_crossentropy',metrics=['accuracy'])\n",
        "\n",
        "history=model.fit(x_train,y_train,validation_split =0.3,epochs=100,verbose=1)"
      ],
      "metadata": {
        "colab": {
          "base_uri": "https://localhost:8080/"
        },
        "id": "A3Gh0EbHV5Nh",
        "outputId": "54d22e76-7545-459e-9453-821917dc5c90"
      },
      "execution_count": 11,
      "outputs": [
        {
          "output_type": "stream",
          "name": "stdout",
          "text": [
            "Epoch 1/100\n"
          ]
        },
        {
          "output_type": "stream",
          "name": "stderr",
          "text": [
            "/usr/local/lib/python3.7/dist-packages/keras/optimizer_v2/gradient_descent.py:102: UserWarning: The `lr` argument is deprecated, use `learning_rate` instead.\n",
            "  super(SGD, self).__init__(name, **kwargs)\n"
          ]
        },
        {
          "output_type": "stream",
          "name": "stdout",
          "text": [
            "434/434 [==============================] - 2s 3ms/step - loss: 2.4255 - accuracy: 0.1030 - val_loss: 2.3773 - val_accuracy: 0.1000\n",
            "Epoch 2/100\n",
            "434/434 [==============================] - 1s 3ms/step - loss: 2.3432 - accuracy: 0.1030 - val_loss: 2.3283 - val_accuracy: 0.1000\n",
            "Epoch 3/100\n",
            "434/434 [==============================] - 1s 3ms/step - loss: 2.3147 - accuracy: 0.1039 - val_loss: 2.3110 - val_accuracy: 0.1005\n",
            "Epoch 4/100\n",
            "434/434 [==============================] - 1s 2ms/step - loss: 2.3050 - accuracy: 0.1049 - val_loss: 2.3050 - val_accuracy: 0.1024\n",
            "Epoch 5/100\n",
            "434/434 [==============================] - 1s 3ms/step - loss: 2.3018 - accuracy: 0.1119 - val_loss: 2.3028 - val_accuracy: 0.1106\n",
            "Epoch 6/100\n",
            "434/434 [==============================] - 1s 2ms/step - loss: 2.3006 - accuracy: 0.1144 - val_loss: 2.3018 - val_accuracy: 0.1118\n",
            "Epoch 7/100\n",
            "434/434 [==============================] - 1s 3ms/step - loss: 2.3001 - accuracy: 0.1143 - val_loss: 2.3014 - val_accuracy: 0.1118\n",
            "Epoch 8/100\n",
            "434/434 [==============================] - 1s 3ms/step - loss: 2.2998 - accuracy: 0.1143 - val_loss: 2.3010 - val_accuracy: 0.1118\n",
            "Epoch 9/100\n",
            "434/434 [==============================] - 1s 3ms/step - loss: 2.2996 - accuracy: 0.1143 - val_loss: 2.3009 - val_accuracy: 0.1118\n",
            "Epoch 10/100\n",
            "434/434 [==============================] - 1s 2ms/step - loss: 2.2994 - accuracy: 0.1143 - val_loss: 2.3007 - val_accuracy: 0.1118\n",
            "Epoch 11/100\n",
            "434/434 [==============================] - 1s 3ms/step - loss: 2.2992 - accuracy: 0.1143 - val_loss: 2.3004 - val_accuracy: 0.1118\n",
            "Epoch 12/100\n",
            "434/434 [==============================] - 1s 3ms/step - loss: 2.2990 - accuracy: 0.1143 - val_loss: 2.3002 - val_accuracy: 0.1118\n",
            "Epoch 13/100\n",
            "434/434 [==============================] - 1s 3ms/step - loss: 2.2988 - accuracy: 0.1143 - val_loss: 2.3000 - val_accuracy: 0.1118\n",
            "Epoch 14/100\n",
            "434/434 [==============================] - 1s 2ms/step - loss: 2.2986 - accuracy: 0.1143 - val_loss: 2.2999 - val_accuracy: 0.1118\n",
            "Epoch 15/100\n",
            "434/434 [==============================] - 1s 2ms/step - loss: 2.2984 - accuracy: 0.1143 - val_loss: 2.2997 - val_accuracy: 0.1118\n",
            "Epoch 16/100\n",
            "434/434 [==============================] - 1s 2ms/step - loss: 2.2982 - accuracy: 0.1143 - val_loss: 2.2995 - val_accuracy: 0.1118\n",
            "Epoch 17/100\n",
            "434/434 [==============================] - 1s 3ms/step - loss: 2.2980 - accuracy: 0.1143 - val_loss: 2.2992 - val_accuracy: 0.1118\n",
            "Epoch 18/100\n",
            "434/434 [==============================] - 1s 3ms/step - loss: 2.2978 - accuracy: 0.1143 - val_loss: 2.2989 - val_accuracy: 0.1118\n",
            "Epoch 19/100\n",
            "434/434 [==============================] - 1s 3ms/step - loss: 2.2976 - accuracy: 0.1143 - val_loss: 2.2988 - val_accuracy: 0.1118\n",
            "Epoch 20/100\n",
            "434/434 [==============================] - 1s 3ms/step - loss: 2.2974 - accuracy: 0.1143 - val_loss: 2.2987 - val_accuracy: 0.1118\n",
            "Epoch 21/100\n",
            "434/434 [==============================] - 1s 3ms/step - loss: 2.2972 - accuracy: 0.1143 - val_loss: 2.2985 - val_accuracy: 0.1118\n",
            "Epoch 22/100\n",
            "434/434 [==============================] - 1s 2ms/step - loss: 2.2970 - accuracy: 0.1143 - val_loss: 2.2982 - val_accuracy: 0.1118\n",
            "Epoch 23/100\n",
            "434/434 [==============================] - 1s 3ms/step - loss: 2.2968 - accuracy: 0.1143 - val_loss: 2.2980 - val_accuracy: 0.1118\n",
            "Epoch 24/100\n",
            "434/434 [==============================] - 1s 3ms/step - loss: 2.2966 - accuracy: 0.1143 - val_loss: 2.2978 - val_accuracy: 0.1118\n",
            "Epoch 25/100\n",
            "434/434 [==============================] - 1s 3ms/step - loss: 2.2964 - accuracy: 0.1143 - val_loss: 2.2975 - val_accuracy: 0.1118\n",
            "Epoch 26/100\n",
            "434/434 [==============================] - 1s 3ms/step - loss: 2.2962 - accuracy: 0.1143 - val_loss: 2.2974 - val_accuracy: 0.1118\n",
            "Epoch 27/100\n",
            "434/434 [==============================] - 1s 3ms/step - loss: 2.2960 - accuracy: 0.1143 - val_loss: 2.2972 - val_accuracy: 0.1118\n",
            "Epoch 28/100\n",
            "434/434 [==============================] - 1s 3ms/step - loss: 2.2958 - accuracy: 0.1143 - val_loss: 2.2971 - val_accuracy: 0.1118\n",
            "Epoch 29/100\n",
            "434/434 [==============================] - 1s 3ms/step - loss: 2.2956 - accuracy: 0.1143 - val_loss: 2.2969 - val_accuracy: 0.1118\n",
            "Epoch 30/100\n",
            "434/434 [==============================] - 1s 2ms/step - loss: 2.2954 - accuracy: 0.1143 - val_loss: 2.2967 - val_accuracy: 0.1118\n",
            "Epoch 31/100\n",
            "434/434 [==============================] - 1s 3ms/step - loss: 2.2952 - accuracy: 0.1143 - val_loss: 2.2964 - val_accuracy: 0.1118\n",
            "Epoch 32/100\n",
            "434/434 [==============================] - 1s 2ms/step - loss: 2.2950 - accuracy: 0.1143 - val_loss: 2.2962 - val_accuracy: 0.1118\n",
            "Epoch 33/100\n",
            "434/434 [==============================] - 1s 2ms/step - loss: 2.2948 - accuracy: 0.1143 - val_loss: 2.2960 - val_accuracy: 0.1118\n",
            "Epoch 34/100\n",
            "434/434 [==============================] - 1s 3ms/step - loss: 2.2946 - accuracy: 0.1143 - val_loss: 2.2958 - val_accuracy: 0.1118\n",
            "Epoch 35/100\n",
            "434/434 [==============================] - 1s 3ms/step - loss: 2.2944 - accuracy: 0.1143 - val_loss: 2.2956 - val_accuracy: 0.1118\n",
            "Epoch 36/100\n",
            "434/434 [==============================] - 1s 3ms/step - loss: 2.2941 - accuracy: 0.1143 - val_loss: 2.2954 - val_accuracy: 0.1118\n",
            "Epoch 37/100\n",
            "434/434 [==============================] - 1s 3ms/step - loss: 2.2939 - accuracy: 0.1143 - val_loss: 2.2952 - val_accuracy: 0.1118\n",
            "Epoch 38/100\n",
            "434/434 [==============================] - 1s 3ms/step - loss: 2.2937 - accuracy: 0.1143 - val_loss: 2.2950 - val_accuracy: 0.1118\n",
            "Epoch 39/100\n",
            "434/434 [==============================] - 1s 3ms/step - loss: 2.2935 - accuracy: 0.1143 - val_loss: 2.2948 - val_accuracy: 0.1118\n",
            "Epoch 40/100\n",
            "434/434 [==============================] - 1s 3ms/step - loss: 2.2933 - accuracy: 0.1143 - val_loss: 2.2945 - val_accuracy: 0.1118\n",
            "Epoch 41/100\n",
            "434/434 [==============================] - 1s 3ms/step - loss: 2.2930 - accuracy: 0.1143 - val_loss: 2.2943 - val_accuracy: 0.1118\n",
            "Epoch 42/100\n",
            "434/434 [==============================] - 1s 3ms/step - loss: 2.2928 - accuracy: 0.1143 - val_loss: 2.2941 - val_accuracy: 0.1118\n",
            "Epoch 43/100\n",
            "434/434 [==============================] - 1s 3ms/step - loss: 2.2925 - accuracy: 0.1143 - val_loss: 2.2938 - val_accuracy: 0.1118\n",
            "Epoch 44/100\n",
            "434/434 [==============================] - 1s 3ms/step - loss: 2.2923 - accuracy: 0.1143 - val_loss: 2.2936 - val_accuracy: 0.1118\n",
            "Epoch 45/100\n",
            "434/434 [==============================] - 1s 3ms/step - loss: 2.2921 - accuracy: 0.1143 - val_loss: 2.2933 - val_accuracy: 0.1118\n",
            "Epoch 46/100\n",
            "434/434 [==============================] - 1s 3ms/step - loss: 2.2918 - accuracy: 0.1143 - val_loss: 2.2930 - val_accuracy: 0.1118\n",
            "Epoch 47/100\n",
            "434/434 [==============================] - 1s 3ms/step - loss: 2.2915 - accuracy: 0.1143 - val_loss: 2.2928 - val_accuracy: 0.1118\n",
            "Epoch 48/100\n",
            "434/434 [==============================] - 1s 3ms/step - loss: 2.2913 - accuracy: 0.1143 - val_loss: 2.2926 - val_accuracy: 0.1118\n",
            "Epoch 49/100\n",
            "434/434 [==============================] - 1s 3ms/step - loss: 2.2910 - accuracy: 0.1143 - val_loss: 2.2922 - val_accuracy: 0.1118\n",
            "Epoch 50/100\n",
            "434/434 [==============================] - 1s 3ms/step - loss: 2.2908 - accuracy: 0.1143 - val_loss: 2.2921 - val_accuracy: 0.1118\n",
            "Epoch 51/100\n",
            "434/434 [==============================] - 1s 3ms/step - loss: 2.2906 - accuracy: 0.1143 - val_loss: 2.2918 - val_accuracy: 0.1118\n",
            "Epoch 52/100\n",
            "434/434 [==============================] - 1s 3ms/step - loss: 2.2903 - accuracy: 0.1143 - val_loss: 2.2915 - val_accuracy: 0.1118\n",
            "Epoch 53/100\n",
            "434/434 [==============================] - 1s 3ms/step - loss: 2.2900 - accuracy: 0.1143 - val_loss: 2.2912 - val_accuracy: 0.1118\n",
            "Epoch 54/100\n",
            "434/434 [==============================] - 1s 3ms/step - loss: 2.2898 - accuracy: 0.1143 - val_loss: 2.2910 - val_accuracy: 0.1118\n",
            "Epoch 55/100\n",
            "434/434 [==============================] - 1s 3ms/step - loss: 2.2895 - accuracy: 0.1143 - val_loss: 2.2907 - val_accuracy: 0.1118\n",
            "Epoch 56/100\n",
            "434/434 [==============================] - 1s 3ms/step - loss: 2.2892 - accuracy: 0.1143 - val_loss: 2.2905 - val_accuracy: 0.1118\n",
            "Epoch 57/100\n",
            "434/434 [==============================] - 1s 3ms/step - loss: 2.2890 - accuracy: 0.1143 - val_loss: 2.2902 - val_accuracy: 0.1118\n",
            "Epoch 58/100\n",
            "434/434 [==============================] - 1s 3ms/step - loss: 2.2887 - accuracy: 0.1143 - val_loss: 2.2899 - val_accuracy: 0.1118\n",
            "Epoch 59/100\n",
            "434/434 [==============================] - 1s 3ms/step - loss: 2.2884 - accuracy: 0.1143 - val_loss: 2.2895 - val_accuracy: 0.1118\n",
            "Epoch 60/100\n",
            "434/434 [==============================] - 1s 3ms/step - loss: 2.2881 - accuracy: 0.1143 - val_loss: 2.2893 - val_accuracy: 0.1118\n",
            "Epoch 61/100\n",
            "434/434 [==============================] - 1s 3ms/step - loss: 2.2879 - accuracy: 0.1143 - val_loss: 2.2891 - val_accuracy: 0.1118\n",
            "Epoch 62/100\n",
            "434/434 [==============================] - 1s 3ms/step - loss: 2.2876 - accuracy: 0.1143 - val_loss: 2.2888 - val_accuracy: 0.1118\n",
            "Epoch 63/100\n",
            "434/434 [==============================] - 1s 3ms/step - loss: 2.2873 - accuracy: 0.1143 - val_loss: 2.2885 - val_accuracy: 0.1118\n",
            "Epoch 64/100\n",
            "434/434 [==============================] - 1s 3ms/step - loss: 2.2870 - accuracy: 0.1143 - val_loss: 2.2882 - val_accuracy: 0.1118\n",
            "Epoch 65/100\n",
            "434/434 [==============================] - 1s 3ms/step - loss: 2.2867 - accuracy: 0.1143 - val_loss: 2.2879 - val_accuracy: 0.1118\n",
            "Epoch 66/100\n",
            "434/434 [==============================] - 1s 3ms/step - loss: 2.2864 - accuracy: 0.1143 - val_loss: 2.2876 - val_accuracy: 0.1118\n",
            "Epoch 67/100\n",
            "434/434 [==============================] - 1s 3ms/step - loss: 2.2861 - accuracy: 0.1143 - val_loss: 2.2873 - val_accuracy: 0.1118\n",
            "Epoch 68/100\n",
            "434/434 [==============================] - 1s 3ms/step - loss: 2.2857 - accuracy: 0.1143 - val_loss: 2.2869 - val_accuracy: 0.1118\n",
            "Epoch 69/100\n",
            "434/434 [==============================] - 1s 3ms/step - loss: 2.2854 - accuracy: 0.1143 - val_loss: 2.2867 - val_accuracy: 0.1118\n",
            "Epoch 70/100\n",
            "434/434 [==============================] - 1s 3ms/step - loss: 2.2851 - accuracy: 0.1143 - val_loss: 2.2863 - val_accuracy: 0.1118\n",
            "Epoch 71/100\n",
            "434/434 [==============================] - 1s 3ms/step - loss: 2.2848 - accuracy: 0.1143 - val_loss: 2.2860 - val_accuracy: 0.1118\n",
            "Epoch 72/100\n",
            "434/434 [==============================] - 1s 3ms/step - loss: 2.2844 - accuracy: 0.1143 - val_loss: 2.2857 - val_accuracy: 0.1118\n",
            "Epoch 73/100\n",
            "434/434 [==============================] - 2s 4ms/step - loss: 2.2841 - accuracy: 0.1143 - val_loss: 2.2853 - val_accuracy: 0.1118\n",
            "Epoch 74/100\n",
            "434/434 [==============================] - 2s 4ms/step - loss: 2.2837 - accuracy: 0.1143 - val_loss: 2.2851 - val_accuracy: 0.1118\n",
            "Epoch 75/100\n",
            "434/434 [==============================] - 1s 3ms/step - loss: 2.2834 - accuracy: 0.1143 - val_loss: 2.2846 - val_accuracy: 0.1118\n",
            "Epoch 76/100\n",
            "434/434 [==============================] - 1s 3ms/step - loss: 2.2830 - accuracy: 0.1143 - val_loss: 2.2843 - val_accuracy: 0.1118\n",
            "Epoch 77/100\n",
            "434/434 [==============================] - 1s 3ms/step - loss: 2.2827 - accuracy: 0.1143 - val_loss: 2.2839 - val_accuracy: 0.1118\n",
            "Epoch 78/100\n",
            "434/434 [==============================] - 1s 3ms/step - loss: 2.2823 - accuracy: 0.1143 - val_loss: 2.2835 - val_accuracy: 0.1118\n",
            "Epoch 79/100\n",
            "434/434 [==============================] - 1s 3ms/step - loss: 2.2819 - accuracy: 0.1143 - val_loss: 2.2831 - val_accuracy: 0.1118\n",
            "Epoch 80/100\n",
            "434/434 [==============================] - 2s 5ms/step - loss: 2.2815 - accuracy: 0.1143 - val_loss: 2.2827 - val_accuracy: 0.1118\n",
            "Epoch 81/100\n",
            "434/434 [==============================] - 1s 3ms/step - loss: 2.2811 - accuracy: 0.1143 - val_loss: 2.2823 - val_accuracy: 0.1118\n",
            "Epoch 82/100\n",
            "434/434 [==============================] - 1s 3ms/step - loss: 2.2807 - accuracy: 0.1143 - val_loss: 2.2819 - val_accuracy: 0.1118\n",
            "Epoch 83/100\n",
            "434/434 [==============================] - 1s 3ms/step - loss: 2.2803 - accuracy: 0.1143 - val_loss: 2.2816 - val_accuracy: 0.1118\n",
            "Epoch 84/100\n",
            "434/434 [==============================] - 1s 3ms/step - loss: 2.2799 - accuracy: 0.1143 - val_loss: 2.2812 - val_accuracy: 0.1118\n",
            "Epoch 85/100\n",
            "434/434 [==============================] - 1s 3ms/step - loss: 2.2795 - accuracy: 0.1143 - val_loss: 2.2807 - val_accuracy: 0.1118\n",
            "Epoch 86/100\n",
            "434/434 [==============================] - 1s 3ms/step - loss: 2.2790 - accuracy: 0.1143 - val_loss: 2.2802 - val_accuracy: 0.1118\n",
            "Epoch 87/100\n",
            "434/434 [==============================] - 1s 2ms/step - loss: 2.2786 - accuracy: 0.1143 - val_loss: 2.2798 - val_accuracy: 0.1118\n",
            "Epoch 88/100\n",
            "434/434 [==============================] - 1s 3ms/step - loss: 2.2781 - accuracy: 0.1143 - val_loss: 2.2794 - val_accuracy: 0.1118\n",
            "Epoch 89/100\n",
            "434/434 [==============================] - 1s 3ms/step - loss: 2.2776 - accuracy: 0.1143 - val_loss: 2.2788 - val_accuracy: 0.1118\n",
            "Epoch 90/100\n",
            "434/434 [==============================] - 1s 3ms/step - loss: 2.2771 - accuracy: 0.1143 - val_loss: 2.2783 - val_accuracy: 0.1118\n",
            "Epoch 91/100\n",
            "434/434 [==============================] - 1s 3ms/step - loss: 2.2766 - accuracy: 0.1143 - val_loss: 2.2778 - val_accuracy: 0.1118\n",
            "Epoch 92/100\n",
            "434/434 [==============================] - 1s 3ms/step - loss: 2.2761 - accuracy: 0.1143 - val_loss: 2.2773 - val_accuracy: 0.1118\n",
            "Epoch 93/100\n",
            "434/434 [==============================] - 1s 3ms/step - loss: 2.2756 - accuracy: 0.1143 - val_loss: 2.2768 - val_accuracy: 0.1118\n",
            "Epoch 94/100\n",
            "434/434 [==============================] - 1s 3ms/step - loss: 2.2751 - accuracy: 0.1143 - val_loss: 2.2763 - val_accuracy: 0.1118\n",
            "Epoch 95/100\n",
            "434/434 [==============================] - 1s 3ms/step - loss: 2.2745 - accuracy: 0.1143 - val_loss: 2.2758 - val_accuracy: 0.1118\n",
            "Epoch 96/100\n",
            "434/434 [==============================] - 1s 3ms/step - loss: 2.2740 - accuracy: 0.1143 - val_loss: 2.2753 - val_accuracy: 0.1118\n",
            "Epoch 97/100\n",
            "434/434 [==============================] - 1s 3ms/step - loss: 2.2734 - accuracy: 0.1143 - val_loss: 2.2746 - val_accuracy: 0.1118\n",
            "Epoch 98/100\n",
            "434/434 [==============================] - 1s 3ms/step - loss: 2.2728 - accuracy: 0.1143 - val_loss: 2.2741 - val_accuracy: 0.1118\n",
            "Epoch 99/100\n",
            "434/434 [==============================] - 1s 3ms/step - loss: 2.2722 - accuracy: 0.1143 - val_loss: 2.2735 - val_accuracy: 0.1118\n",
            "Epoch 100/100\n",
            "434/434 [==============================] - 1s 3ms/step - loss: 2.2716 - accuracy: 0.1144 - val_loss: 2.2729 - val_accuracy: 0.1121\n"
          ]
        }
      ]
    },
    {
      "cell_type": "code",
      "source": [
        "results=model.evaluate(x_test, y_test)\n",
        "print('Test accuracy:',results[1])"
      ],
      "metadata": {
        "colab": {
          "base_uri": "https://localhost:8080/"
        },
        "id": "mf7gljaeXGaE",
        "outputId": "c80518a4-9123-4e09-8c9e-1e63af6e5864"
      },
      "execution_count": 12,
      "outputs": [
        {
          "output_type": "stream",
          "name": "stdout",
          "text": [
            "313/313 [==============================] - 0s 2ms/step - loss: 2.2710 - accuracy: 0.1143\n",
            "Test accuracy: 0.11429999768733978\n"
          ]
        }
      ]
    },
    {
      "cell_type": "code",
      "source": [
        "plt.plot(history.history['accuracy'])\n",
        "plt.plot(history.history['val_accuracy'])\n",
        "plt.legend(['training','validation'],loc='upper left')\n",
        "plt.show()"
      ],
      "metadata": {
        "colab": {
          "base_uri": "https://localhost:8080/",
          "height": 265
        },
        "id": "ylMckFM6XTGp",
        "outputId": "bebcff39-f599-4eb5-8cd7-b6975a366c51"
      },
      "execution_count": 13,
      "outputs": [
        {
          "output_type": "display_data",
          "data": {
            "text/plain": [
              "<Figure size 432x288 with 1 Axes>"
            ],
            "image/png": "[encoded data removed]"
          },
          "metadata": {
            "needs_background": "light"
          }
        }
      ]
    }
  ]
}