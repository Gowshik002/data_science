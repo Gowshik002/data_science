{
  "nbformat": 4,
  "nbformat_minor": 0,
  "metadata": {
    "colab": {
      "name": "linear regression-Pytorch.ipynb",
      "provenance": [],
      "authorship_tag": "ABX9TyO7HCLDlw4DcxYmdGmzogM+"
    },
    "kernelspec": {
      "name": "python3",
      "display_name": "Python 3"
    },
    "language_info": {
      "name": "python"
    }
  },
  "cells": [
    {
      "cell_type": "code",
      "execution_count": 41,
      "metadata": {
        "id": "Pw6Vr5_EYxJ8"
      },
      "outputs": [],
      "source": [
        "import numpy as np\n",
        "import matplotlib.pyplot as plt\n",
        "import torch\n",
        "import torch.nn as nn\n",
        "from torch.optim.optimizer import Optimizer\n"
      ]
    },
    {
      "cell_type": "code",
      "source": [
        "input_size=1\n",
        "output_size=1\n",
        "num_epochs=80\n",
        "learning_rate=0.001"
      ],
      "metadata": {
        "id": "SIX89CRFZPSk"
      },
      "execution_count": 42,
      "outputs": []
    },
    {
      "cell_type": "code",
      "source": [
        "x_train=np.array([[3.2],[2.4],[4.6],[8.9],[10.1],\n",
        "                  [1.1],[2.8],[3.9],[4.1],[7.4]],dtype=np.float32)\n",
        "y_train=np.array([[1.9],[2.8],[3.7],[4.6],[5.5],\n",
        "                  [6.4],[7.3],[8.2],[9.1],[10.0]],dtype=np.float32)"
      ],
      "metadata": {
        "id": "zLsyJm8IbtBs"
      },
      "execution_count": 48,
      "outputs": []
    },
    {
      "cell_type": "code",
      "source": [
        "model=nn.Linear(input_size,output_size)"
      ],
      "metadata": {
        "id": "qn-QS5lpcDjc"
      },
      "execution_count": 49,
      "outputs": []
    },
    {
      "cell_type": "code",
      "source": [
        "criterion=nn.MSELoss()\n",
        "optimizer=torch.optim.SGD(model.parameters(),lr=learning_rate)\n",
        "\n",
        "for i in range(num_epochs):\n",
        "  inputs=torch.from_numpy(x_train)\n",
        "  targets=torch.from_numpy(y_train)\n",
        "  outputs=model(inputs)\n",
        "  loss=criterion(outputs,targets)\n",
        "  loss.backward()\n",
        "  optimizer.step()\n",
        "\n",
        "  if (i+1)%5==0:\n",
        "    print('Epoch[{}/{}],Loss: {:.4f}'.format(i+1,num_epochs,loss.item()))"
      ],
      "metadata": {
        "colab": {
          "base_uri": "https://localhost:8080/"
        },
        "id": "x-WeVRe5cx3z",
        "outputId": "f11d616b-ac5e-4fae-d87d-2c7e136fa642"
      },
      "execution_count": 60,
      "outputs": [
        {
          "output_type": "stream",
          "name": "stdout",
          "text": [
            "Epoch[5/80],Loss: 13.2728\n",
            "Epoch[10/80],Loss: 12.7127\n",
            "Epoch[15/80],Loss: 11.9509\n",
            "Epoch[20/80],Loss: 11.2063\n",
            "Epoch[25/80],Loss: 10.3544\n",
            "Epoch[30/80],Loss: 9.5211\n",
            "Epoch[35/80],Loss: 8.7689\n",
            "Epoch[40/80],Loss: 8.0143\n",
            "Epoch[45/80],Loss: 7.4712\n",
            "Epoch[50/80],Loss: 6.9939\n",
            "Epoch[55/80],Loss: 6.7136\n",
            "Epoch[60/80],Loss: 6.6379\n",
            "Epoch[65/80],Loss: 6.6728\n",
            "Epoch[70/80],Loss: 6.9841\n",
            "Epoch[75/80],Loss: 7.3774\n",
            "Epoch[80/80],Loss: 7.9621\n"
          ]
        }
      ]
    },
    {
      "cell_type": "code",
      "source": [
        "predicted=model(torch.from_numpy(x_train)).detach().numpy()\n",
        "plt.plot(x_train,y_train, 'ro',label='Original data')\n",
        "plt.plot(x_train,predicted,label='fitted line')\n",
        "plt.legend()\n",
        "plt.show()"
      ],
      "metadata": {
        "colab": {
          "base_uri": "https://localhost:8080/",
          "height": 265
        },
        "id": "pEdpoFlpm2s_",
        "outputId": "97906094-bbcf-4959-d2bf-a6f53602bd69"
      },
      "execution_count": 61,
      "outputs": [
        {
          "output_type": "display_data",
          "data": {
            "text/plain": [
              "<Figure size 432x288 with 1 Axes>"
            ],
            "image/png": "[encoded data removed]"
          },
          "metadata": {
            "needs_background": "light"
          }
        }
      ]
    }
  ]
}