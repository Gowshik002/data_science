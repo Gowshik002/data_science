{
  "nbformat": 4,
  "nbformat_minor": 0,
  "metadata": {
    "colab": {
      "name": "ANN.ipynb",
      "provenance": [],
      "collapsed_sections": [],
      "authorship_tag": "ABX9TyOlnYcqYrNxYkyLyKrBWjFn"
    },
    "kernelspec": {
      "name": "python3",
      "display_name": "Python 3"
    },
    "language_info": {
      "name": "python"
    }
  },
  "cells": [
    {
      "cell_type": "code",
      "source": [
        "import tensorflow as tf\n",
        "import numpy as np"
      ],
      "metadata": {
        "id": "ySOLySSU-AXj"
      },
      "execution_count": 37,
      "outputs": []
    },
    {
      "cell_type": "code",
      "source": [
        "from tensorflow.keras.datasets import mnist\n",
        "(x_train,y_train),(x_test,y_test)=mnist.load_data()"
      ],
      "metadata": {
        "id": "3bCdYg44-EN1"
      },
      "execution_count": 38,
      "outputs": []
    },
    {
      "cell_type": "code",
      "source": [
        "def get_batch(x_data,y_data,batch_size):\n",
        "    idxs=np.random.randint(0,len(y_data),batch_size)\n",
        "    return x_data[idxs,:,:],y_data[idxs]"
      ],
      "metadata": {
        "id": "AQKTGNEI-E-6"
      },
      "execution_count": 39,
      "outputs": []
    },
    {
      "cell_type": "code",
      "source": [
        "epochs=10\n",
        "batch_size=100"
      ],
      "metadata": {
        "id": "hKD59Zi0-InJ"
      },
      "execution_count": 40,
      "outputs": []
    },
    {
      "cell_type": "code",
      "source": [
        "#normalize the input images by dividing by 255.0\n",
        "x_train=x_train/255.0\n",
        "x_test=x_test/255.0\n",
        "\n",
        "#convert x_test to tensor to pass through model (train data will be converted to tensors on the fly)\n",
        "x_test=tf.Variable(x_test)"
      ],
      "metadata": {
        "id": "J8mz1FOn-OYj"
      },
      "execution_count": 41,
      "outputs": []
    },
    {
      "cell_type": "code",
      "source": [
        "#now declare the weights connecting the input to the hidden layer\n",
        "W1=tf.Variable(tf.random.normal([784,300],stddev=0.03),name='W1')\n",
        "b1 =tf.Variable(tf.random.normal([300]),name='b1')\n",
        "\n",
        "#and the weights connecting the hidden layer to the output layer\n",
        "W2 =tf.Variable(tf.random.normal([300,10], stddev=0.03),name='W2')\n",
        "b2 =tf.Variable(tf.random.normal([10]),name='b2')"
      ],
      "metadata": {
        "id": "SmevUrEt-Tcu"
      },
      "execution_count": 42,
      "outputs": []
    },
    {
      "cell_type": "code",
      "source": [
        "def nn_model(x_input,W1,b1,W2,b2):\n",
        "\n",
        "    #flatten the input image from 28 x 28 to 784\n",
        "    x_input=tf.reshape(x_input,(x_input.shape[0],-1))\n",
        "    x=tf.add(tf.matmul(tf.cast(x_input,tf.float32),W1),b1)\n",
        "    x=tf.nn.relu(x)\n",
        "    logits=tf.add(tf.matmul(x, W2), b2)\n",
        "    return logits"
      ],
      "metadata": {
        "id": "z033Q4Km-aEo"
      },
      "execution_count": 43,
      "outputs": []
    },
    {
      "cell_type": "code",
      "source": [
        "def loss_fn(logits, labels):\n",
        "    cross_entropy=tf.reduce_mean(tf.nn.softmax_cross_entropy_with_logits(labels=labels,logits=logits))\n",
        "    return cross_entropy"
      ],
      "metadata": {
        "id": "gCx8lQD8-bJe"
      },
      "execution_count": 44,
      "outputs": []
    },
    {
      "cell_type": "code",
      "source": [
        "optimizer=tf.keras.optimizers.Adam()"
      ],
      "metadata": {
        "id": "VMX-lggW-gy8"
      },
      "execution_count": 45,
      "outputs": []
    },
    {
      "cell_type": "code",
      "source": [
        "total_batch=int(len(y_train) / batch_size)\n",
        "for epoch in range(epochs):\n",
        "    avg_loss=0\n",
        "    for i in range(total_batch):\n",
        "        batch_x,batch_y=get_batch(x_train,y_train,batch_size=batch_size)\n",
        "\n",
        "        #create tensors\n",
        "        batch_x=tf.Variable(batch_x)\n",
        "        batch_y=tf.Variable(batch_y)\n",
        "\n",
        "        #create a one hot vector\n",
        "        batch_y=tf.one_hot(batch_y, 10)\n",
        "        with tf.GradientTape() as tape:\n",
        "            logits=nn_model(batch_x,W1,b1,W2,b2)\n",
        "            loss=loss_fn(logits,batch_y)\n",
        "        gradients=tape.gradient(loss, [W1,b1,W2,b2])\n",
        "        optimizer.apply_gradients(zip(gradients,[W1,b1,W2,b2]))\n",
        "        avg_loss+=loss/total_batch\n",
        "    test_logits=nn_model(x_test,W1,b1,W2,b2)\n",
        "    max_idxs=tf.argmax(test_logits,axis=1)\n",
        "    test_acc=np.sum(max_idxs.numpy()==y_test)/len(y_test)\n",
        "    print(f\"Epoch: {epoch + 1},loss={avg_loss:.3f},test set accuracy={test_acc*100:.3f}%\")"
      ],
      "metadata": {
        "colab": {
          "base_uri": "https://localhost:8080/"
        },
        "id": "lnhCXDgD-k9W",
        "outputId": "4c162ec7-9e00-40b3-df3f-81d5dcd7e8c6"
      },
      "execution_count": 46,
      "outputs": [
        {
          "output_type": "stream",
          "name": "stdout",
          "text": [
            "Epoch: 1,loss=0.376,test set accuracy=94.290%\n",
            "Epoch: 2,loss=0.152,test set accuracy=96.070%\n",
            "Epoch: 3,loss=0.105,test set accuracy=96.950%\n",
            "Epoch: 4,loss=0.077,test set accuracy=97.080%\n",
            "Epoch: 5,loss=0.060,test set accuracy=97.310%\n",
            "Epoch: 6,loss=0.048,test set accuracy=97.610%\n",
            "Epoch: 7,loss=0.038,test set accuracy=97.790%\n",
            "Epoch: 8,loss=0.029,test set accuracy=97.770%\n",
            "Epoch: 9,loss=0.023,test set accuracy=97.800%\n",
            "Epoch: 10,loss=0.020,test set accuracy=97.950%\n"
          ]
        }
      ]
    }
  ]
}