{
  "nbformat": 4,
  "nbformat_minor": 0,
  "metadata": {
    "colab": {
      "name": "keras_CNN_1.ipynb",
      "provenance": [],
      "collapsed_sections": [],
      "authorship_tag": "ABX9TyOSes88yiJa8vkB29tHR2nt"
    },
    "kernelspec": {
      "name": "python3",
      "display_name": "Python 3"
    },
    "language_info": {
      "name": "python"
    },
    "accelerator": "GPU",
    "gpuClass": "standard"
  },
  "cells": [
    {
      "cell_type": "code",
      "execution_count": null,
      "metadata": {
        "id": "g5MVXc0mKWTn"
      },
      "outputs": [],
      "source": [
        "import numpy as np\n",
        "import matplotlib.pyplot as plt\n",
        "\n",
        "from keras.datasets import mnist\n",
        "from keras.layers import Dense,Activation,Conv2D,MaxPooling2D,Flatten,BatchNormalization,Dropout\n",
        "from keras.models import Sequential\n",
        "from keras.utils.np_utils import to_categorical\n",
        "from tensorflow.keras.optimizers import Adam "
      ]
    },
    {
      "cell_type": "code",
      "source": [
        "(x_train,y_train),(x_test,y_test)=mnist.load_data()\n",
        "\n",
        "x_train=x_train.reshape((x_train.shape[0],x_train.shape[1],x_train.shape[2],1))\n",
        "x_test=x_test.reshape((x_test.shape[0],x_test.shape[1],x_test.shape[2],1))\n",
        "\n",
        "y_train=to_categorical(y_train)\n",
        "y_test=to_categorical(y_test)\n",
        "\n",
        "print(x_train.shape[0])\n",
        "print(x_train.shape[1])\n",
        "print(x_train.shape[2])\n",
        "print(x_train.shape[3])"
      ],
      "metadata": {
        "colab": {
          "base_uri": "https://localhost:8080/"
        },
        "id": "3qaaJk_7Ohg4",
        "outputId": "ec79629c-b759-426a-f4ed-b82ed304e391"
      },
      "execution_count": null,
      "outputs": [
        {
          "output_type": "stream",
          "name": "stdout",
          "text": [
            "Downloading data from https://storage.googleapis.com/tensorflow/tf-keras-datasets/mnist.npz\n",
            "11493376/11490434 [==============================] - 0s 0us/step\n",
            "11501568/11490434 [==============================] - 0s 0us/step\n",
            "60000\n",
            "28\n",
            "28\n",
            "1\n"
          ]
        }
      ]
    },
    {
      "cell_type": "code",
      "source": [
        "def cnn():\n",
        "  model=Sequential()\n",
        "  \n",
        "  model.add(Conv2D(input_shape=(x_train.shape[1],x_train.shape[2],x_train.shape[3]),filters=50,kernel_size=(3,3),strides=(1,1),padding='same',kernel_initializer='he_normal'))\n",
        "  model.add(BatchNormalization())\n",
        "  model.add(Activation('relu'))\n",
        "  model.add(Conv2D(filters=50,kernel_size=(3,3),strides=(1,1),padding='same',kernel_initializer='he_normal'))\n",
        "  model.add(Conv2D(filters=25,kernel_size=(1,1),strides=(1,1),padding='valid',kernel_initializer='he_normal'))\n",
        "  model.add(BatchNormalization())\n",
        "  model.add(Activation('relu'))\n",
        "  model.add(MaxPooling2D(pool_size=(2,2)))\n",
        "  model.add(Conv2D(filters=50,kernel_size=(3,3),strides=(1,1),padding='same',kernel_initializer='he_normal'))\n",
        "  model.add(Conv2D(filters=25,kernel_size=(1,1),strides=(1,1),padding='valid',kernel_initializer='he_normal'))\n",
        "  model.add(BatchNormalization())\n",
        "  model.add(Activation('relu'))\n",
        "  model.add(Conv2D(filters=50, kernel_size=(3,3),strides=(1,1),padding='same',kernel_initializer='he_normal'))\n",
        "  model.add(Conv2D(filters=25, kernel_size=(1,1),strides=(1,1),padding='valid',kernel_initializer='he_normal'))\n",
        "  model.add(BatchNormalization())\n",
        "  model.add(Activation('relu'))\n",
        "  model.add(MaxPooling2D(pool_size=(2,2)))\n",
        "  model.add(Conv2D(filters=50,kernel_size=(3,3),strides= (1,1),padding='same',kernel_initializer='he_normal'))\n",
        "  model.add(Conv2D(filters=25,kernel_size=(1,1),strides=(1,1),padding ='valid',kernel_initializer='he_normal'))\n",
        "  model.add(BatchNormalization())\n",
        "  model.add(Activation('relu'))\n",
        "  model.add(Conv2D(filters=50, kernel_size=(3,3),strides=(1,1),padding='same',kernel_initializer='he_normal'))\n",
        "  model.add(Conv2D(filters=25, kernel_size=(1,1),strides=(1,1),padding='valid',kernel_initializer='he_normal'))\n",
        "  model.add(BatchNormalization())\n",
        "  model.add(Activation('relu'))\n",
        "  model.add(MaxPooling2D(pool_size=(2,2)))\n",
        "\n",
        "\n",
        "  model.add(Flatten())\n",
        "  model.add(Dense(50,activation='relu',kernel_initializer='he_normal'))\n",
        "  model.add(Dropout(0.5))\n",
        "  model.add(Dense(10,activation='softmax',kernel_initializer='he_normal'))\n",
        "\n",
        "\n",
        "  adam=Adam(lr=0.001)\n",
        "  model.compile(loss='categorical_crossentropy',optimizer='Adam',metrics=['accuracy'])\n",
        "  return model"
      ],
      "metadata": {
        "id": "wdV4HQwfQ1Q5"
      },
      "execution_count": null,
      "outputs": []
    },
    {
      "cell_type": "code",
      "source": [
        "model=cnn()\n",
        "\n",
        "history=model.fit(x_train,y_train,batch_size=50,validation_split=0.2,epochs=100,verbose=1)"
      ],
      "metadata": {
        "colab": {
          "base_uri": "https://localhost:8080/"
        },
        "id": "ZFwnPY_4Suwa",
        "outputId": "11ccb36b-0b15-4ac3-89f9-ac93f8760fef"
      },
      "execution_count": null,
      "outputs": [
        {
          "output_type": "stream",
          "name": "stdout",
          "text": [
            "Epoch 1/100\n"
          ]
        },
        {
          "output_type": "stream",
          "name": "stderr",
          "text": [
            "/usr/local/lib/python3.7/dist-packages/keras/optimizer_v2/adam.py:105: UserWarning: The `lr` argument is deprecated, use `learning_rate` instead.\n",
            "  super(Adam, self).__init__(name, **kwargs)\n"
          ]
        },
        {
          "output_type": "stream",
          "name": "stdout",
          "text": [
            "960/960 [==============================] - 12s 12ms/step - loss: 0.4129 - accuracy: 0.8679 - val_loss: 0.0578 - val_accuracy: 0.9827\n",
            "Epoch 2/100\n",
            "960/960 [==============================] - 9s 9ms/step - loss: 0.1358 - accuracy: 0.9613 - val_loss: 0.0765 - val_accuracy: 0.9784\n",
            "Epoch 3/100\n",
            "960/960 [==============================] - 9s 9ms/step - loss: 0.1025 - accuracy: 0.9710 - val_loss: 0.0683 - val_accuracy: 0.9808\n",
            "Epoch 4/100\n",
            "960/960 [==============================] - 9s 9ms/step - loss: 0.0852 - accuracy: 0.9757 - val_loss: 0.0579 - val_accuracy: 0.9829\n",
            "Epoch 5/100\n",
            "960/960 [==============================] - 9s 9ms/step - loss: 0.0734 - accuracy: 0.9787 - val_loss: 0.0395 - val_accuracy: 0.9890\n",
            "Epoch 6/100\n",
            "960/960 [==============================] - 9s 9ms/step - loss: 0.0718 - accuracy: 0.9805 - val_loss: 0.0371 - val_accuracy: 0.9911\n",
            "Epoch 7/100\n",
            "960/960 [==============================] - 9s 9ms/step - loss: 0.0620 - accuracy: 0.9821 - val_loss: 0.0434 - val_accuracy: 0.9889\n",
            "Epoch 8/100\n",
            "960/960 [==============================] - 9s 9ms/step - loss: 0.0580 - accuracy: 0.9826 - val_loss: 0.1282 - val_accuracy: 0.9691\n",
            "Epoch 9/100\n",
            "960/960 [==============================] - 9s 9ms/step - loss: 0.0516 - accuracy: 0.9849 - val_loss: 0.0403 - val_accuracy: 0.9899\n",
            "Epoch 10/100\n",
            "960/960 [==============================] - 10s 10ms/step - loss: 0.0508 - accuracy: 0.9847 - val_loss: 0.0336 - val_accuracy: 0.9908\n",
            "Epoch 11/100\n",
            "960/960 [==============================] - 10s 10ms/step - loss: 0.0498 - accuracy: 0.9854 - val_loss: 0.0405 - val_accuracy: 0.9887\n",
            "Epoch 12/100\n",
            "960/960 [==============================] - 9s 10ms/step - loss: 0.0424 - accuracy: 0.9865 - val_loss: 0.0470 - val_accuracy: 0.9896\n",
            "Epoch 13/100\n",
            "960/960 [==============================] - 9s 9ms/step - loss: 0.0415 - accuracy: 0.9876 - val_loss: 0.0296 - val_accuracy: 0.9922\n",
            "Epoch 14/100\n",
            "960/960 [==============================] - 10s 10ms/step - loss: 0.0380 - accuracy: 0.9884 - val_loss: 0.0434 - val_accuracy: 0.9916\n",
            "Epoch 15/100\n",
            "960/960 [==============================] - 10s 10ms/step - loss: 0.0379 - accuracy: 0.9888 - val_loss: 0.0509 - val_accuracy: 0.9877\n",
            "Epoch 16/100\n",
            "960/960 [==============================] - 9s 9ms/step - loss: 0.0364 - accuracy: 0.9889 - val_loss: 0.0399 - val_accuracy: 0.9918\n",
            "Epoch 17/100\n",
            "960/960 [==============================] - 9s 9ms/step - loss: 0.0350 - accuracy: 0.9895 - val_loss: 0.0295 - val_accuracy: 0.9933\n",
            "Epoch 18/100\n",
            "960/960 [==============================] - 9s 9ms/step - loss: 0.0336 - accuracy: 0.9896 - val_loss: 0.0421 - val_accuracy: 0.9897\n",
            "Epoch 19/100\n",
            "960/960 [==============================] - 10s 10ms/step - loss: 0.0292 - accuracy: 0.9904 - val_loss: 0.0371 - val_accuracy: 0.9919\n",
            "Epoch 20/100\n",
            "960/960 [==============================] - 9s 9ms/step - loss: 0.0317 - accuracy: 0.9903 - val_loss: 0.0410 - val_accuracy: 0.9912\n",
            "Epoch 21/100\n",
            "960/960 [==============================] - 8s 9ms/step - loss: 0.0268 - accuracy: 0.9920 - val_loss: 0.0375 - val_accuracy: 0.9915\n",
            "Epoch 22/100\n",
            "960/960 [==============================] - 9s 9ms/step - loss: 0.0306 - accuracy: 0.9910 - val_loss: 0.0362 - val_accuracy: 0.9927\n",
            "Epoch 23/100\n",
            "960/960 [==============================] - 10s 10ms/step - loss: 0.0253 - accuracy: 0.9925 - val_loss: 0.0399 - val_accuracy: 0.9911\n",
            "Epoch 24/100\n",
            "960/960 [==============================] - 9s 9ms/step - loss: 0.0247 - accuracy: 0.9921 - val_loss: 0.0330 - val_accuracy: 0.9937\n",
            "Epoch 25/100\n",
            "960/960 [==============================] - 9s 9ms/step - loss: 0.0251 - accuracy: 0.9926 - val_loss: 0.0315 - val_accuracy: 0.9933\n",
            "Epoch 26/100\n",
            "960/960 [==============================] - 10s 10ms/step - loss: 0.0227 - accuracy: 0.9926 - val_loss: 0.0821 - val_accuracy: 0.9854\n",
            "Epoch 27/100\n",
            "960/960 [==============================] - 9s 10ms/step - loss: 0.0237 - accuracy: 0.9926 - val_loss: 0.0574 - val_accuracy: 0.9877\n",
            "Epoch 28/100\n",
            "960/960 [==============================] - 10s 10ms/step - loss: 0.0238 - accuracy: 0.9929 - val_loss: 0.0392 - val_accuracy: 0.9923\n",
            "Epoch 29/100\n",
            "960/960 [==============================] - 9s 10ms/step - loss: 0.0235 - accuracy: 0.9930 - val_loss: 0.0338 - val_accuracy: 0.9920\n",
            "Epoch 30/100\n",
            "960/960 [==============================] - 9s 9ms/step - loss: 0.0204 - accuracy: 0.9936 - val_loss: 0.0365 - val_accuracy: 0.9918\n",
            "Epoch 31/100\n",
            "960/960 [==============================] - 10s 10ms/step - loss: 0.0213 - accuracy: 0.9939 - val_loss: 0.0350 - val_accuracy: 0.9933\n",
            "Epoch 32/100\n",
            "960/960 [==============================] - 12s 12ms/step - loss: 0.0211 - accuracy: 0.9934 - val_loss: 0.0359 - val_accuracy: 0.9936\n",
            "Epoch 33/100\n",
            "960/960 [==============================] - 10s 11ms/step - loss: 0.0213 - accuracy: 0.9934 - val_loss: 0.0497 - val_accuracy: 0.9890\n",
            "Epoch 34/100\n",
            "960/960 [==============================] - 9s 9ms/step - loss: 0.0179 - accuracy: 0.9944 - val_loss: 0.0432 - val_accuracy: 0.9923\n",
            "Epoch 35/100\n",
            "960/960 [==============================] - 9s 10ms/step - loss: 0.0170 - accuracy: 0.9945 - val_loss: 0.0378 - val_accuracy: 0.9933\n",
            "Epoch 36/100\n",
            "960/960 [==============================] - 9s 9ms/step - loss: 0.0193 - accuracy: 0.9939 - val_loss: 0.0473 - val_accuracy: 0.9918\n",
            "Epoch 37/100\n",
            "960/960 [==============================] - 10s 10ms/step - loss: 0.0165 - accuracy: 0.9950 - val_loss: 0.0523 - val_accuracy: 0.9909\n",
            "Epoch 38/100\n",
            "960/960 [==============================] - 9s 9ms/step - loss: 0.0164 - accuracy: 0.9951 - val_loss: 0.0436 - val_accuracy: 0.9922\n",
            "Epoch 39/100\n",
            "960/960 [==============================] - 9s 9ms/step - loss: 0.0172 - accuracy: 0.9944 - val_loss: 0.0424 - val_accuracy: 0.9915\n",
            "Epoch 40/100\n",
            "960/960 [==============================] - 10s 10ms/step - loss: 0.0140 - accuracy: 0.9951 - val_loss: 0.0602 - val_accuracy: 0.9908\n",
            "Epoch 41/100\n",
            "960/960 [==============================] - 9s 9ms/step - loss: 0.0155 - accuracy: 0.9950 - val_loss: 0.0390 - val_accuracy: 0.9931\n",
            "Epoch 42/100\n",
            "960/960 [==============================] - 11s 11ms/step - loss: 0.0162 - accuracy: 0.9952 - val_loss: 0.0431 - val_accuracy: 0.9922\n",
            "Epoch 43/100\n",
            "960/960 [==============================] - 9s 10ms/step - loss: 0.0143 - accuracy: 0.9955 - val_loss: 0.0561 - val_accuracy: 0.9919\n",
            "Epoch 44/100\n",
            "960/960 [==============================] - 9s 9ms/step - loss: 0.0191 - accuracy: 0.9949 - val_loss: 0.0356 - val_accuracy: 0.9933\n",
            "Epoch 45/100\n",
            "960/960 [==============================] - 10s 10ms/step - loss: 0.0121 - accuracy: 0.9959 - val_loss: 0.0540 - val_accuracy: 0.9919\n",
            "Epoch 46/100\n",
            "960/960 [==============================] - 10s 10ms/step - loss: 0.0163 - accuracy: 0.9949 - val_loss: 0.0407 - val_accuracy: 0.9933\n",
            "Epoch 47/100\n",
            "960/960 [==============================] - 8s 9ms/step - loss: 0.0136 - accuracy: 0.9959 - val_loss: 0.0526 - val_accuracy: 0.9921\n",
            "Epoch 48/100\n",
            "960/960 [==============================] - 9s 9ms/step - loss: 0.0136 - accuracy: 0.9954 - val_loss: 0.0509 - val_accuracy: 0.9923\n",
            "Epoch 49/100\n",
            "960/960 [==============================] - 10s 10ms/step - loss: 0.0151 - accuracy: 0.9957 - val_loss: 0.0461 - val_accuracy: 0.9927\n",
            "Epoch 50/100\n",
            "960/960 [==============================] - 9s 9ms/step - loss: 0.0147 - accuracy: 0.9959 - val_loss: 0.0595 - val_accuracy: 0.9917\n",
            "Epoch 51/100\n",
            "960/960 [==============================] - 9s 9ms/step - loss: 0.0146 - accuracy: 0.9954 - val_loss: 0.0516 - val_accuracy: 0.9913\n",
            "Epoch 52/100\n",
            "960/960 [==============================] - 10s 10ms/step - loss: 0.0123 - accuracy: 0.9956 - val_loss: 0.0542 - val_accuracy: 0.9913\n",
            "Epoch 53/100\n",
            "960/960 [==============================] - 9s 9ms/step - loss: 0.0115 - accuracy: 0.9959 - val_loss: 0.0672 - val_accuracy: 0.9913\n",
            "Epoch 54/100\n",
            "960/960 [==============================] - 9s 9ms/step - loss: 0.0140 - accuracy: 0.9958 - val_loss: 0.0508 - val_accuracy: 0.9928\n",
            "Epoch 55/100\n",
            "960/960 [==============================] - 9s 9ms/step - loss: 0.0114 - accuracy: 0.9962 - val_loss: 0.0661 - val_accuracy: 0.9905\n",
            "Epoch 56/100\n",
            "960/960 [==============================] - 9s 9ms/step - loss: 0.0125 - accuracy: 0.9958 - val_loss: 0.0470 - val_accuracy: 0.9923\n",
            "Epoch 57/100\n",
            "960/960 [==============================] - 10s 10ms/step - loss: 0.0103 - accuracy: 0.9964 - val_loss: 0.0560 - val_accuracy: 0.9915\n",
            "Epoch 58/100\n",
            "960/960 [==============================] - 9s 10ms/step - loss: 0.0118 - accuracy: 0.9964 - val_loss: 0.0500 - val_accuracy: 0.9920\n",
            "Epoch 59/100\n",
            "960/960 [==============================] - 9s 9ms/step - loss: 0.0123 - accuracy: 0.9961 - val_loss: 0.0511 - val_accuracy: 0.9931\n",
            "Epoch 60/100\n",
            "960/960 [==============================] - 10s 10ms/step - loss: 0.0140 - accuracy: 0.9956 - val_loss: 0.0508 - val_accuracy: 0.9922\n",
            "Epoch 61/100\n",
            "960/960 [==============================] - 10s 10ms/step - loss: 0.0117 - accuracy: 0.9961 - val_loss: 0.0466 - val_accuracy: 0.9928\n",
            "Epoch 62/100\n",
            "960/960 [==============================] - 9s 9ms/step - loss: 0.0104 - accuracy: 0.9969 - val_loss: 0.0514 - val_accuracy: 0.9918\n",
            "Epoch 63/100\n",
            "960/960 [==============================] - 9s 9ms/step - loss: 0.0132 - accuracy: 0.9956 - val_loss: 0.0577 - val_accuracy: 0.9904\n",
            "Epoch 64/100\n",
            "960/960 [==============================] - 9s 9ms/step - loss: 0.0123 - accuracy: 0.9962 - val_loss: 0.0573 - val_accuracy: 0.9910\n",
            "Epoch 65/100\n",
            "960/960 [==============================] - 9s 9ms/step - loss: 0.0106 - accuracy: 0.9963 - val_loss: 0.0614 - val_accuracy: 0.9923\n",
            "Epoch 66/100\n",
            "960/960 [==============================] - 9s 9ms/step - loss: 0.0120 - accuracy: 0.9964 - val_loss: 0.0398 - val_accuracy: 0.9936\n",
            "Epoch 67/100\n",
            "960/960 [==============================] - 9s 9ms/step - loss: 0.0111 - accuracy: 0.9962 - val_loss: 0.0550 - val_accuracy: 0.9930\n",
            "Epoch 68/100\n",
            "960/960 [==============================] - 10s 10ms/step - loss: 0.0130 - accuracy: 0.9957 - val_loss: 0.0453 - val_accuracy: 0.9923\n",
            "Epoch 69/100\n",
            "960/960 [==============================] - 9s 9ms/step - loss: 0.0094 - accuracy: 0.9969 - val_loss: 0.0693 - val_accuracy: 0.9919\n",
            "Epoch 70/100\n",
            "960/960 [==============================] - 9s 10ms/step - loss: 0.0130 - accuracy: 0.9960 - val_loss: 0.0494 - val_accuracy: 0.9928\n",
            "Epoch 71/100\n",
            "960/960 [==============================] - 9s 9ms/step - loss: 0.0089 - accuracy: 0.9971 - val_loss: 0.0657 - val_accuracy: 0.9918\n",
            "Epoch 72/100\n",
            "960/960 [==============================] - 10s 10ms/step - loss: 0.0121 - accuracy: 0.9964 - val_loss: 0.0411 - val_accuracy: 0.9932\n",
            "Epoch 73/100\n",
            "960/960 [==============================] - 9s 9ms/step - loss: 0.0112 - accuracy: 0.9962 - val_loss: 0.0523 - val_accuracy: 0.9927\n",
            "Epoch 74/100\n",
            "960/960 [==============================] - 9s 9ms/step - loss: 0.0108 - accuracy: 0.9965 - val_loss: 0.0664 - val_accuracy: 0.9921\n",
            "Epoch 75/100\n",
            "960/960 [==============================] - 9s 9ms/step - loss: 0.0109 - accuracy: 0.9966 - val_loss: 0.0536 - val_accuracy: 0.9932\n",
            "Epoch 76/100\n",
            "960/960 [==============================] - 10s 10ms/step - loss: 0.0090 - accuracy: 0.9968 - val_loss: 0.0546 - val_accuracy: 0.9937\n",
            "Epoch 77/100\n",
            "960/960 [==============================] - 10s 10ms/step - loss: 0.0088 - accuracy: 0.9975 - val_loss: 0.0845 - val_accuracy: 0.9912\n",
            "Epoch 78/100\n",
            "960/960 [==============================] - 10s 10ms/step - loss: 0.0108 - accuracy: 0.9965 - val_loss: 0.0688 - val_accuracy: 0.9920\n",
            "Epoch 79/100\n",
            "960/960 [==============================] - 9s 9ms/step - loss: 0.0105 - accuracy: 0.9965 - val_loss: 0.0635 - val_accuracy: 0.9913\n",
            "Epoch 80/100\n",
            "960/960 [==============================] - 9s 9ms/step - loss: 0.0107 - accuracy: 0.9970 - val_loss: 0.0533 - val_accuracy: 0.9938\n",
            "Epoch 81/100\n",
            "960/960 [==============================] - 10s 10ms/step - loss: 0.0089 - accuracy: 0.9972 - val_loss: 0.0656 - val_accuracy: 0.9924\n",
            "Epoch 82/100\n",
            "960/960 [==============================] - 9s 9ms/step - loss: 0.0114 - accuracy: 0.9964 - val_loss: 0.0638 - val_accuracy: 0.9923\n",
            "Epoch 83/100\n",
            "960/960 [==============================] - 9s 9ms/step - loss: 0.0101 - accuracy: 0.9965 - val_loss: 0.0639 - val_accuracy: 0.9926\n",
            "Epoch 84/100\n",
            "960/960 [==============================] - 9s 9ms/step - loss: 0.0100 - accuracy: 0.9968 - val_loss: 0.0712 - val_accuracy: 0.9910\n",
            "Epoch 85/100\n",
            "960/960 [==============================] - 9s 9ms/step - loss: 0.0073 - accuracy: 0.9974 - val_loss: 0.0708 - val_accuracy: 0.9926\n",
            "Epoch 86/100\n",
            "960/960 [==============================] - 9s 9ms/step - loss: 0.0110 - accuracy: 0.9966 - val_loss: 0.0518 - val_accuracy: 0.9922\n",
            "Epoch 87/100\n",
            "960/960 [==============================] - 9s 9ms/step - loss: 0.0090 - accuracy: 0.9971 - val_loss: 0.0533 - val_accuracy: 0.9927\n",
            "Epoch 88/100\n",
            "960/960 [==============================] - 10s 10ms/step - loss: 0.0090 - accuracy: 0.9968 - val_loss: 0.0774 - val_accuracy: 0.9910\n",
            "Epoch 89/100\n",
            "960/960 [==============================] - 9s 9ms/step - loss: 0.0095 - accuracy: 0.9972 - val_loss: 0.0517 - val_accuracy: 0.9928\n",
            "Epoch 90/100\n",
            "960/960 [==============================] - 9s 9ms/step - loss: 0.0111 - accuracy: 0.9968 - val_loss: 0.0600 - val_accuracy: 0.9923\n",
            "Epoch 91/100\n",
            "960/960 [==============================] - 9s 9ms/step - loss: 0.0071 - accuracy: 0.9977 - val_loss: 0.0553 - val_accuracy: 0.9932\n",
            "Epoch 92/100\n",
            "960/960 [==============================] - 9s 9ms/step - loss: 0.0103 - accuracy: 0.9967 - val_loss: 0.0552 - val_accuracy: 0.9917\n",
            "Epoch 93/100\n",
            "960/960 [==============================] - 10s 10ms/step - loss: 0.0081 - accuracy: 0.9973 - val_loss: 0.0621 - val_accuracy: 0.9937\n",
            "Epoch 94/100\n",
            "960/960 [==============================] - 9s 9ms/step - loss: 0.0108 - accuracy: 0.9965 - val_loss: 0.0562 - val_accuracy: 0.9923\n",
            "Epoch 95/100\n",
            "960/960 [==============================] - 9s 9ms/step - loss: 0.0092 - accuracy: 0.9970 - val_loss: 0.0554 - val_accuracy: 0.9928\n",
            "Epoch 96/100\n",
            "960/960 [==============================] - 9s 9ms/step - loss: 0.0095 - accuracy: 0.9971 - val_loss: 0.0660 - val_accuracy: 0.9904\n",
            "Epoch 97/100\n",
            "960/960 [==============================] - 10s 10ms/step - loss: 0.0089 - accuracy: 0.9972 - val_loss: 0.0531 - val_accuracy: 0.9933\n",
            "Epoch 98/100\n",
            "960/960 [==============================] - 9s 9ms/step - loss: 0.0093 - accuracy: 0.9967 - val_loss: 0.0584 - val_accuracy: 0.9912\n",
            "Epoch 99/100\n",
            "960/960 [==============================] - 9s 10ms/step - loss: 0.0077 - accuracy: 0.9975 - val_loss: 0.0607 - val_accuracy: 0.9916\n",
            "Epoch 100/100\n",
            "960/960 [==============================] - 9s 9ms/step - loss: 0.0082 - accuracy: 0.9973 - val_loss: 0.0609 - val_accuracy: 0.9927\n"
          ]
        }
      ]
    },
    {
      "cell_type": "code",
      "source": [
        "results=model.evaluate(x_test, y_test)\n",
        "print('Test accuracy:',results[1])"
      ],
      "metadata": {
        "colab": {
          "base_uri": "https://localhost:8080/"
        },
        "id": "zZuJGvRgfDry",
        "outputId": "044e72af-4f1f-496a-9879-d3f0cd9489a6"
      },
      "execution_count": null,
      "outputs": [
        {
          "output_type": "stream",
          "name": "stdout",
          "text": [
            "313/313 [==============================] - 2s 6ms/step - loss: 0.0451 - accuracy: 0.9936\n",
            "Test accuracy: 0.9936000108718872\n"
          ]
        }
      ]
    },
    {
      "cell_type": "code",
      "source": [
        "plt.plot(history.history['accuracy'])\n",
        "plt.plot(history.history['val_accuracy'])\n",
        "plt.legend(['training','validation'],loc ='upper left')\n",
        "plt.show()"
      ],
      "metadata": {
        "colab": {
          "base_uri": "https://localhost:8080/",
          "height": 265
        },
        "id": "nfdrYMOyUj0m",
        "outputId": "0ed2e206-9ab7-4ca3-cff7-d9cdc11f9d99"
      },
      "execution_count": null,
      "outputs": [
        {
          "output_type": "display_data",
          "data": {
            "text/plain": [
              "<Figure size 432x288 with 1 Axes>"
            ],
            "image/png": "[encoded data removed]"
          },
          "metadata": {
            "needs_background": "light"
          }
        }
      ]
    }
  ]
}