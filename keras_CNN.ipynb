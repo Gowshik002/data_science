{
  "nbformat": 4,
  "nbformat_minor": 0,
  "metadata": {
    "colab": {
      "name": "keras_CNN.ipynb",
      "provenance": [],
      "authorship_tag": "ABX9TyNOwcWxZnzOOn/wLXqalQ5Z"
    },
    "kernelspec": {
      "name": "python3",
      "display_name": "Python 3"
    },
    "language_info": {
      "name": "python"
    }
  },
  "cells": [
    {
      "cell_type": "code",
      "execution_count": 24,
      "metadata": {
        "id": "ebuWizEjcVt4"
      },
      "outputs": [],
      "source": [
        "import numpy as np\n",
        "import matplotlib.pyplot as plt\n",
        "from sklearn import datasets\n",
        "from sklearn.model_selection import train_test_split\n",
        "from keras.utils.np_utils import to_categorical\n",
        "from keras.models import Sequential\n",
        "from keras import optimizers\n",
        "from keras.layers import Dense,Activation,Flatten,Conv2D,MaxPooling2D\n",
        "from tensorflow.keras.optimizers import Adam "
      ]
    },
    {
      "cell_type": "code",
      "source": [
        "data=datasets.load_digits()\n",
        "\n",
        "x_data=data.images\n",
        "y_data=data.target\n",
        "\n",
        "x_data=x_data.reshape((x_data.shape[0],x_data.shape[1],x_data.shape[2], 1))\n",
        "y_data=to_categorical(y_data)\n",
        "\n",
        "x_train,x_test,y_train,y_test=train_test_split(x_data,y_data,test_size=0.3,random_state=777)"
      ],
      "metadata": {
        "id": "XpjnZ3tlc4rw"
      },
      "execution_count": 25,
      "outputs": []
    },
    {
      "cell_type": "code",
      "source": [
        "model = Sequential()\n",
        "\n",
        "model.add(Conv2D(input_shape = (x_data.shape[1],x_data.shape[2],x_data.shape[3]),filters=10,kernel_size=(3,3),strides=(1,1),padding='valid'))\n",
        "model.add(Activation('relu'))\n",
        "model.add(MaxPooling2D(pool_size=(2,2)))\n",
        "model.add(Flatten())\n",
        "model.add(Dense(50,activation ='relu'))\n",
        "model.add(Dense(10, activation ='softmax'))"
      ],
      "metadata": {
        "id": "oBfK2wludcWg"
      },
      "execution_count": 26,
      "outputs": []
    },
    {
      "cell_type": "code",
      "source": [
        "adam=Adam(lr=0.001)\n",
        "model.compile(loss='categorical_crossentropy',optimizer=adam,metrics=['accuracy'])\n",
        "\n",
        "history=model.fit(x_train,y_train,batch_size=50,validation_split=0.2,epochs=100,verbose=1)"
      ],
      "metadata": {
        "colab": {
          "base_uri": "https://localhost:8080/"
        },
        "id": "RzCLETGJduOF",
        "outputId": "950cd1fc-94e1-45ba-d6a0-7924c7d7f495"
      },
      "execution_count": 27,
      "outputs": [
        {
          "output_type": "stream",
          "name": "stdout",
          "text": [
            "Epoch 1/100\n"
          ]
        },
        {
          "output_type": "stream",
          "name": "stderr",
          "text": [
            "/usr/local/lib/python3.7/dist-packages/keras/optimizer_v2/adam.py:105: UserWarning: The `lr` argument is deprecated, use `learning_rate` instead.\n",
            "  super(Adam, self).__init__(name, **kwargs)\n"
          ]
        },
        {
          "output_type": "stream",
          "name": "stdout",
          "text": [
            "21/21 [==============================] - 1s 11ms/step - loss: 4.7937 - accuracy: 0.1682 - val_loss: 2.6838 - val_accuracy: 0.1984\n",
            "Epoch 2/100\n",
            "21/21 [==============================] - 0s 4ms/step - loss: 2.0469 - accuracy: 0.3204 - val_loss: 1.5493 - val_accuracy: 0.4881\n",
            "Epoch 3/100\n",
            "21/21 [==============================] - 0s 4ms/step - loss: 1.3276 - accuracy: 0.5662 - val_loss: 1.0191 - val_accuracy: 0.6905\n",
            "Epoch 4/100\n",
            "21/21 [==============================] - 0s 4ms/step - loss: 0.8842 - accuracy: 0.7522 - val_loss: 0.6656 - val_accuracy: 0.8492\n",
            "Epoch 5/100\n",
            "21/21 [==============================] - 0s 4ms/step - loss: 0.6052 - accuracy: 0.8418 - val_loss: 0.4505 - val_accuracy: 0.9008\n",
            "Epoch 6/100\n",
            "21/21 [==============================] - 0s 5ms/step - loss: 0.4492 - accuracy: 0.8905 - val_loss: 0.3645 - val_accuracy: 0.9127\n",
            "Epoch 7/100\n",
            "21/21 [==============================] - 0s 4ms/step - loss: 0.3360 - accuracy: 0.9174 - val_loss: 0.3011 - val_accuracy: 0.9286\n",
            "Epoch 8/100\n",
            "21/21 [==============================] - 0s 4ms/step - loss: 0.2785 - accuracy: 0.9333 - val_loss: 0.2659 - val_accuracy: 0.9206\n",
            "Epoch 9/100\n",
            "21/21 [==============================] - 0s 4ms/step - loss: 0.2238 - accuracy: 0.9453 - val_loss: 0.2297 - val_accuracy: 0.9444\n",
            "Epoch 10/100\n",
            "21/21 [==============================] - 0s 4ms/step - loss: 0.1881 - accuracy: 0.9542 - val_loss: 0.1987 - val_accuracy: 0.9484\n",
            "Epoch 11/100\n",
            "21/21 [==============================] - 0s 4ms/step - loss: 0.1718 - accuracy: 0.9602 - val_loss: 0.1900 - val_accuracy: 0.9484\n",
            "Epoch 12/100\n",
            "21/21 [==============================] - 0s 5ms/step - loss: 0.1387 - accuracy: 0.9771 - val_loss: 0.1694 - val_accuracy: 0.9563\n",
            "Epoch 13/100\n",
            "21/21 [==============================] - 0s 4ms/step - loss: 0.1236 - accuracy: 0.9741 - val_loss: 0.1660 - val_accuracy: 0.9444\n",
            "Epoch 14/100\n",
            "21/21 [==============================] - 0s 4ms/step - loss: 0.1242 - accuracy: 0.9721 - val_loss: 0.1543 - val_accuracy: 0.9524\n",
            "Epoch 15/100\n",
            "21/21 [==============================] - 0s 4ms/step - loss: 0.1010 - accuracy: 0.9841 - val_loss: 0.1619 - val_accuracy: 0.9603\n",
            "Epoch 16/100\n",
            "21/21 [==============================] - 0s 5ms/step - loss: 0.0918 - accuracy: 0.9831 - val_loss: 0.1395 - val_accuracy: 0.9563\n",
            "Epoch 17/100\n",
            "21/21 [==============================] - 0s 4ms/step - loss: 0.0823 - accuracy: 0.9841 - val_loss: 0.1468 - val_accuracy: 0.9643\n",
            "Epoch 18/100\n",
            "21/21 [==============================] - 0s 5ms/step - loss: 0.0714 - accuracy: 0.9871 - val_loss: 0.1427 - val_accuracy: 0.9603\n",
            "Epoch 19/100\n",
            "21/21 [==============================] - 0s 4ms/step - loss: 0.0679 - accuracy: 0.9900 - val_loss: 0.1445 - val_accuracy: 0.9603\n",
            "Epoch 20/100\n",
            "21/21 [==============================] - 0s 5ms/step - loss: 0.0613 - accuracy: 0.9910 - val_loss: 0.1177 - val_accuracy: 0.9643\n",
            "Epoch 21/100\n",
            "21/21 [==============================] - 0s 3ms/step - loss: 0.0575 - accuracy: 0.9920 - val_loss: 0.1281 - val_accuracy: 0.9643\n",
            "Epoch 22/100\n",
            "21/21 [==============================] - 0s 4ms/step - loss: 0.0539 - accuracy: 0.9920 - val_loss: 0.1251 - val_accuracy: 0.9643\n",
            "Epoch 23/100\n",
            "21/21 [==============================] - 0s 4ms/step - loss: 0.0453 - accuracy: 0.9950 - val_loss: 0.1164 - val_accuracy: 0.9603\n",
            "Epoch 24/100\n",
            "21/21 [==============================] - 0s 3ms/step - loss: 0.0483 - accuracy: 0.9930 - val_loss: 0.1286 - val_accuracy: 0.9603\n",
            "Epoch 25/100\n",
            "21/21 [==============================] - 0s 4ms/step - loss: 0.0425 - accuracy: 0.9960 - val_loss: 0.1221 - val_accuracy: 0.9603\n",
            "Epoch 26/100\n",
            "21/21 [==============================] - 0s 4ms/step - loss: 0.0441 - accuracy: 0.9930 - val_loss: 0.1091 - val_accuracy: 0.9603\n",
            "Epoch 27/100\n",
            "21/21 [==============================] - 0s 4ms/step - loss: 0.0368 - accuracy: 0.9970 - val_loss: 0.1130 - val_accuracy: 0.9643\n",
            "Epoch 28/100\n",
            "21/21 [==============================] - 0s 4ms/step - loss: 0.0336 - accuracy: 0.9980 - val_loss: 0.1205 - val_accuracy: 0.9603\n",
            "Epoch 29/100\n",
            "21/21 [==============================] - 0s 5ms/step - loss: 0.0333 - accuracy: 0.9960 - val_loss: 0.1021 - val_accuracy: 0.9603\n",
            "Epoch 30/100\n",
            "21/21 [==============================] - 0s 3ms/step - loss: 0.0299 - accuracy: 0.9980 - val_loss: 0.1097 - val_accuracy: 0.9643\n",
            "Epoch 31/100\n",
            "21/21 [==============================] - 0s 3ms/step - loss: 0.0294 - accuracy: 0.9970 - val_loss: 0.1042 - val_accuracy: 0.9683\n",
            "Epoch 32/100\n",
            "21/21 [==============================] - 0s 5ms/step - loss: 0.0252 - accuracy: 0.9980 - val_loss: 0.1018 - val_accuracy: 0.9643\n",
            "Epoch 33/100\n",
            "21/21 [==============================] - 0s 5ms/step - loss: 0.0247 - accuracy: 0.9980 - val_loss: 0.1016 - val_accuracy: 0.9643\n",
            "Epoch 34/100\n",
            "21/21 [==============================] - 0s 4ms/step - loss: 0.0228 - accuracy: 0.9990 - val_loss: 0.1069 - val_accuracy: 0.9643\n",
            "Epoch 35/100\n",
            "21/21 [==============================] - 0s 4ms/step - loss: 0.0218 - accuracy: 0.9990 - val_loss: 0.0931 - val_accuracy: 0.9683\n",
            "Epoch 36/100\n",
            "21/21 [==============================] - 0s 3ms/step - loss: 0.0223 - accuracy: 0.9980 - val_loss: 0.1060 - val_accuracy: 0.9643\n",
            "Epoch 37/100\n",
            "21/21 [==============================] - 0s 4ms/step - loss: 0.0198 - accuracy: 0.9990 - val_loss: 0.0957 - val_accuracy: 0.9643\n",
            "Epoch 38/100\n",
            "21/21 [==============================] - 0s 4ms/step - loss: 0.0185 - accuracy: 1.0000 - val_loss: 0.1021 - val_accuracy: 0.9643\n",
            "Epoch 39/100\n",
            "21/21 [==============================] - 0s 5ms/step - loss: 0.0178 - accuracy: 0.9990 - val_loss: 0.1040 - val_accuracy: 0.9643\n",
            "Epoch 40/100\n",
            "21/21 [==============================] - 0s 4ms/step - loss: 0.0279 - accuracy: 0.9960 - val_loss: 0.1044 - val_accuracy: 0.9683\n",
            "Epoch 41/100\n",
            "21/21 [==============================] - 0s 4ms/step - loss: 0.0195 - accuracy: 0.9990 - val_loss: 0.0930 - val_accuracy: 0.9643\n",
            "Epoch 42/100\n",
            "21/21 [==============================] - 0s 4ms/step - loss: 0.0150 - accuracy: 1.0000 - val_loss: 0.0977 - val_accuracy: 0.9643\n",
            "Epoch 43/100\n",
            "21/21 [==============================] - 0s 4ms/step - loss: 0.0137 - accuracy: 1.0000 - val_loss: 0.0954 - val_accuracy: 0.9683\n",
            "Epoch 44/100\n",
            "21/21 [==============================] - 0s 5ms/step - loss: 0.0135 - accuracy: 1.0000 - val_loss: 0.0976 - val_accuracy: 0.9643\n",
            "Epoch 45/100\n",
            "21/21 [==============================] - 0s 4ms/step - loss: 0.0122 - accuracy: 1.0000 - val_loss: 0.0999 - val_accuracy: 0.9643\n",
            "Epoch 46/100\n",
            "21/21 [==============================] - 0s 4ms/step - loss: 0.0119 - accuracy: 1.0000 - val_loss: 0.0946 - val_accuracy: 0.9683\n",
            "Epoch 47/100\n",
            "21/21 [==============================] - 0s 3ms/step - loss: 0.0123 - accuracy: 1.0000 - val_loss: 0.1062 - val_accuracy: 0.9683\n",
            "Epoch 48/100\n",
            "21/21 [==============================] - 0s 5ms/step - loss: 0.0125 - accuracy: 1.0000 - val_loss: 0.0937 - val_accuracy: 0.9643\n",
            "Epoch 49/100\n",
            "21/21 [==============================] - 0s 4ms/step - loss: 0.0114 - accuracy: 1.0000 - val_loss: 0.0958 - val_accuracy: 0.9643\n",
            "Epoch 50/100\n",
            "21/21 [==============================] - 0s 4ms/step - loss: 0.0101 - accuracy: 1.0000 - val_loss: 0.0916 - val_accuracy: 0.9683\n",
            "Epoch 51/100\n",
            "21/21 [==============================] - 0s 4ms/step - loss: 0.0095 - accuracy: 1.0000 - val_loss: 0.0972 - val_accuracy: 0.9643\n",
            "Epoch 52/100\n",
            "21/21 [==============================] - 0s 4ms/step - loss: 0.0095 - accuracy: 1.0000 - val_loss: 0.0905 - val_accuracy: 0.9722\n",
            "Epoch 53/100\n",
            "21/21 [==============================] - 0s 5ms/step - loss: 0.0088 - accuracy: 1.0000 - val_loss: 0.0903 - val_accuracy: 0.9683\n",
            "Epoch 54/100\n",
            "21/21 [==============================] - 0s 5ms/step - loss: 0.0087 - accuracy: 1.0000 - val_loss: 0.0953 - val_accuracy: 0.9643\n",
            "Epoch 55/100\n",
            "21/21 [==============================] - 0s 4ms/step - loss: 0.0082 - accuracy: 1.0000 - val_loss: 0.0887 - val_accuracy: 0.9683\n",
            "Epoch 56/100\n",
            "21/21 [==============================] - 0s 4ms/step - loss: 0.0099 - accuracy: 1.0000 - val_loss: 0.0977 - val_accuracy: 0.9643\n",
            "Epoch 57/100\n",
            "21/21 [==============================] - 0s 3ms/step - loss: 0.0081 - accuracy: 1.0000 - val_loss: 0.0968 - val_accuracy: 0.9683\n",
            "Epoch 58/100\n",
            "21/21 [==============================] - 0s 4ms/step - loss: 0.0072 - accuracy: 1.0000 - val_loss: 0.0897 - val_accuracy: 0.9683\n",
            "Epoch 59/100\n",
            "21/21 [==============================] - 0s 4ms/step - loss: 0.0080 - accuracy: 1.0000 - val_loss: 0.0911 - val_accuracy: 0.9683\n",
            "Epoch 60/100\n",
            "21/21 [==============================] - 0s 5ms/step - loss: 0.0068 - accuracy: 1.0000 - val_loss: 0.0943 - val_accuracy: 0.9643\n",
            "Epoch 61/100\n",
            "21/21 [==============================] - 0s 3ms/step - loss: 0.0073 - accuracy: 1.0000 - val_loss: 0.0996 - val_accuracy: 0.9643\n",
            "Epoch 62/100\n",
            "21/21 [==============================] - 0s 5ms/step - loss: 0.0064 - accuracy: 1.0000 - val_loss: 0.0915 - val_accuracy: 0.9683\n",
            "Epoch 63/100\n",
            "21/21 [==============================] - 0s 4ms/step - loss: 0.0065 - accuracy: 1.0000 - val_loss: 0.0927 - val_accuracy: 0.9683\n",
            "Epoch 64/100\n",
            "21/21 [==============================] - 0s 4ms/step - loss: 0.0062 - accuracy: 1.0000 - val_loss: 0.0937 - val_accuracy: 0.9683\n",
            "Epoch 65/100\n",
            "21/21 [==============================] - 0s 4ms/step - loss: 0.0056 - accuracy: 1.0000 - val_loss: 0.0899 - val_accuracy: 0.9722\n",
            "Epoch 66/100\n",
            "21/21 [==============================] - 0s 4ms/step - loss: 0.0054 - accuracy: 1.0000 - val_loss: 0.0931 - val_accuracy: 0.9683\n",
            "Epoch 67/100\n",
            "21/21 [==============================] - 0s 4ms/step - loss: 0.0053 - accuracy: 1.0000 - val_loss: 0.0918 - val_accuracy: 0.9683\n",
            "Epoch 68/100\n",
            "21/21 [==============================] - 0s 4ms/step - loss: 0.0053 - accuracy: 1.0000 - val_loss: 0.0870 - val_accuracy: 0.9722\n",
            "Epoch 69/100\n",
            "21/21 [==============================] - 0s 3ms/step - loss: 0.0049 - accuracy: 1.0000 - val_loss: 0.0921 - val_accuracy: 0.9683\n",
            "Epoch 70/100\n",
            "21/21 [==============================] - 0s 4ms/step - loss: 0.0052 - accuracy: 1.0000 - val_loss: 0.0883 - val_accuracy: 0.9683\n",
            "Epoch 71/100\n",
            "21/21 [==============================] - 0s 4ms/step - loss: 0.0047 - accuracy: 1.0000 - val_loss: 0.0898 - val_accuracy: 0.9683\n",
            "Epoch 72/100\n",
            "21/21 [==============================] - 0s 4ms/step - loss: 0.0046 - accuracy: 1.0000 - val_loss: 0.0902 - val_accuracy: 0.9722\n",
            "Epoch 73/100\n",
            "21/21 [==============================] - 0s 4ms/step - loss: 0.0044 - accuracy: 1.0000 - val_loss: 0.0898 - val_accuracy: 0.9683\n",
            "Epoch 74/100\n",
            "21/21 [==============================] - 0s 4ms/step - loss: 0.0046 - accuracy: 1.0000 - val_loss: 0.0962 - val_accuracy: 0.9683\n",
            "Epoch 75/100\n",
            "21/21 [==============================] - 0s 4ms/step - loss: 0.0043 - accuracy: 1.0000 - val_loss: 0.0905 - val_accuracy: 0.9683\n",
            "Epoch 76/100\n",
            "21/21 [==============================] - 0s 4ms/step - loss: 0.0042 - accuracy: 1.0000 - val_loss: 0.0920 - val_accuracy: 0.9683\n",
            "Epoch 77/100\n",
            "21/21 [==============================] - 0s 4ms/step - loss: 0.0044 - accuracy: 1.0000 - val_loss: 0.0866 - val_accuracy: 0.9722\n",
            "Epoch 78/100\n",
            "21/21 [==============================] - 0s 4ms/step - loss: 0.0037 - accuracy: 1.0000 - val_loss: 0.0892 - val_accuracy: 0.9722\n",
            "Epoch 79/100\n",
            "21/21 [==============================] - 0s 4ms/step - loss: 0.0036 - accuracy: 1.0000 - val_loss: 0.0869 - val_accuracy: 0.9722\n",
            "Epoch 80/100\n",
            "21/21 [==============================] - 0s 5ms/step - loss: 0.0035 - accuracy: 1.0000 - val_loss: 0.0888 - val_accuracy: 0.9722\n",
            "Epoch 81/100\n",
            "21/21 [==============================] - 0s 5ms/step - loss: 0.0034 - accuracy: 1.0000 - val_loss: 0.0872 - val_accuracy: 0.9722\n",
            "Epoch 82/100\n",
            "21/21 [==============================] - 0s 3ms/step - loss: 0.0035 - accuracy: 1.0000 - val_loss: 0.0882 - val_accuracy: 0.9722\n",
            "Epoch 83/100\n",
            "21/21 [==============================] - 0s 4ms/step - loss: 0.0033 - accuracy: 1.0000 - val_loss: 0.0882 - val_accuracy: 0.9722\n",
            "Epoch 84/100\n",
            "21/21 [==============================] - 0s 4ms/step - loss: 0.0032 - accuracy: 1.0000 - val_loss: 0.0842 - val_accuracy: 0.9722\n",
            "Epoch 85/100\n",
            "21/21 [==============================] - 0s 5ms/step - loss: 0.0031 - accuracy: 1.0000 - val_loss: 0.0889 - val_accuracy: 0.9722\n",
            "Epoch 86/100\n",
            "21/21 [==============================] - 0s 4ms/step - loss: 0.0031 - accuracy: 1.0000 - val_loss: 0.0869 - val_accuracy: 0.9722\n",
            "Epoch 87/100\n",
            "21/21 [==============================] - 0s 4ms/step - loss: 0.0030 - accuracy: 1.0000 - val_loss: 0.0844 - val_accuracy: 0.9722\n",
            "Epoch 88/100\n",
            "21/21 [==============================] - 0s 3ms/step - loss: 0.0028 - accuracy: 1.0000 - val_loss: 0.0878 - val_accuracy: 0.9683\n",
            "Epoch 89/100\n",
            "21/21 [==============================] - 0s 5ms/step - loss: 0.0028 - accuracy: 1.0000 - val_loss: 0.0843 - val_accuracy: 0.9722\n",
            "Epoch 90/100\n",
            "21/21 [==============================] - 0s 3ms/step - loss: 0.0026 - accuracy: 1.0000 - val_loss: 0.0889 - val_accuracy: 0.9722\n",
            "Epoch 91/100\n",
            "21/21 [==============================] - 0s 4ms/step - loss: 0.0026 - accuracy: 1.0000 - val_loss: 0.0875 - val_accuracy: 0.9722\n",
            "Epoch 92/100\n",
            "21/21 [==============================] - 0s 4ms/step - loss: 0.0025 - accuracy: 1.0000 - val_loss: 0.0865 - val_accuracy: 0.9722\n",
            "Epoch 93/100\n",
            "21/21 [==============================] - 0s 4ms/step - loss: 0.0027 - accuracy: 1.0000 - val_loss: 0.0921 - val_accuracy: 0.9683\n",
            "Epoch 94/100\n",
            "21/21 [==============================] - 0s 4ms/step - loss: 0.0027 - accuracy: 1.0000 - val_loss: 0.0845 - val_accuracy: 0.9722\n",
            "Epoch 95/100\n",
            "21/21 [==============================] - 0s 4ms/step - loss: 0.0025 - accuracy: 1.0000 - val_loss: 0.0848 - val_accuracy: 0.9722\n",
            "Epoch 96/100\n",
            "21/21 [==============================] - 0s 4ms/step - loss: 0.0022 - accuracy: 1.0000 - val_loss: 0.0876 - val_accuracy: 0.9722\n",
            "Epoch 97/100\n",
            "21/21 [==============================] - 0s 4ms/step - loss: 0.0023 - accuracy: 1.0000 - val_loss: 0.0860 - val_accuracy: 0.9722\n",
            "Epoch 98/100\n",
            "21/21 [==============================] - 0s 4ms/step - loss: 0.0022 - accuracy: 1.0000 - val_loss: 0.0816 - val_accuracy: 0.9722\n",
            "Epoch 99/100\n",
            "21/21 [==============================] - 0s 4ms/step - loss: 0.0021 - accuracy: 1.0000 - val_loss: 0.0874 - val_accuracy: 0.9722\n",
            "Epoch 100/100\n",
            "21/21 [==============================] - 0s 4ms/step - loss: 0.0021 - accuracy: 1.0000 - val_loss: 0.0850 - val_accuracy: 0.9722\n"
          ]
        }
      ]
    },
    {
      "cell_type": "code",
      "source": [
        "results=model.evaluate(x_test,y_test)\n",
        "print('Test accuracy:',results[1])"
      ],
      "metadata": {
        "colab": {
          "base_uri": "https://localhost:8080/"
        },
        "id": "7lEVN-JLfFpD",
        "outputId": "ad514642-b8d8-48e7-ec44-6f6e1838d76c"
      },
      "execution_count": 28,
      "outputs": [
        {
          "output_type": "stream",
          "name": "stdout",
          "text": [
            "17/17 [==============================] - 0s 2ms/step - loss: 0.0714 - accuracy: 0.9722\n",
            "Test accuracy: 0.9722222089767456\n"
          ]
        }
      ]
    },
    {
      "cell_type": "code",
      "source": [
        "plt.plot(history.history['accuracy'])\n",
        "plt.plot(history.history['val_accuracy'])\n",
        "plt.legend(['training','validation'],loc ='upper left')\n",
        "plt.show()\n"
      ],
      "metadata": {
        "colab": {
          "base_uri": "https://localhost:8080/",
          "height": 265
        },
        "id": "83SzJro-d7Dq",
        "outputId": "c4790cf6-538c-42f3-8672-790cc84a7297"
      },
      "execution_count": 29,
      "outputs": [
        {
          "output_type": "display_data",
          "data": {
            "text/plain": [
              "<Figure size 432x288 with 1 Axes>"
            ],
            "image/png": "[encoded data removed]"
          },
          "metadata": {
            "needs_background": "light"
          }
        }
      ]
    }
  ]
}