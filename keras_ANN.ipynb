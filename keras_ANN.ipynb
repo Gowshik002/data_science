{
  "nbformat": 4,
  "nbformat_minor": 0,
  "metadata": {
    "colab": {
      "name": "keras_ANN.ipynb",
      "provenance": [],
      "authorship_tag": "ABX9TyMAAY2A22xIJ7jnrU4sYX/x"
    },
    "kernelspec": {
      "name": "python3",
      "display_name": "Python 3"
    },
    "language_info": {
      "name": "python"
    }
  },
  "cells": [
    {
      "cell_type": "code",
      "execution_count": 4,
      "metadata": {
        "id": "8rN_Y0Fp3P5X"
      },
      "outputs": [],
      "source": [
        "from keras.datasets import boston_housing\n",
        "from keras.models import Sequential\n",
        "from keras.layers import Dense,Activation\n",
        "from tensorflow.keras.optimizers import SGD"
      ]
    },
    {
      "cell_type": "code",
      "source": [
        "(x_train,y_train),(x_test,y_test)=boston_housing.load_data()"
      ],
      "metadata": {
        "id": "evlO7CJFKFos"
      },
      "execution_count": 5,
      "outputs": []
    },
    {
      "cell_type": "code",
      "source": [
        "model=Sequential()\n",
        "\n",
        "model.add(Dense(10,input_shape=(13,)))\n",
        "model.add(Activation('sigmoid'))\n",
        "model.add(Dense(10))\n",
        "model.add(Activation('sigmoid'))\n",
        "model.add(Dense(10))\n",
        "model.add(Activation('sigmoid'))\n",
        "model.add(Dense(1))"
      ],
      "metadata": {
        "id": "0_au5U6jKTlt"
      },
      "execution_count": 6,
      "outputs": []
    },
    {
      "cell_type": "code",
      "source": [
        "sgd=SGD(lr=0.01)\n",
        "\n",
        "model.compile(optimizer=sgd,loss='mean_squared_error',metrics=['mse'])\n",
        "model.fit(x_train,y_train,batch_size=50,epochs=100,verbose=1)"
      ],
      "metadata": {
        "colab": {
          "base_uri": "https://localhost:8080/"
        },
        "id": "AnZNpbhzOCYw",
        "outputId": "ba5feed3-28c2-42bf-d948-dc33f42deb95"
      },
      "execution_count": 13,
      "outputs": [
        {
          "output_type": "stream",
          "name": "stdout",
          "text": [
            "Epoch 1/100\n"
          ]
        },
        {
          "output_type": "stream",
          "name": "stderr",
          "text": [
            "/usr/local/lib/python3.7/dist-packages/keras/optimizer_v2/gradient_descent.py:102: UserWarning: The `lr` argument is deprecated, use `learning_rate` instead.\n",
            "  super(SGD, self).__init__(name, **kwargs)\n"
          ]
        },
        {
          "output_type": "stream",
          "name": "stdout",
          "text": [
            "9/9 [==============================] - 0s 2ms/step - loss: 86.7295 - mse: 86.7295\n",
            "Epoch 2/100\n",
            "9/9 [==============================] - 0s 2ms/step - loss: 84.9145 - mse: 84.9145\n",
            "Epoch 3/100\n",
            "9/9 [==============================] - 0s 3ms/step - loss: 84.8945 - mse: 84.8945\n",
            "Epoch 4/100\n",
            "9/9 [==============================] - 0s 2ms/step - loss: 84.9133 - mse: 84.9133\n",
            "Epoch 5/100\n",
            "9/9 [==============================] - 0s 3ms/step - loss: 85.2818 - mse: 85.2818\n",
            "Epoch 6/100\n",
            "9/9 [==============================] - 0s 3ms/step - loss: 84.8966 - mse: 84.8966\n",
            "Epoch 7/100\n",
            "9/9 [==============================] - 0s 3ms/step - loss: 84.7340 - mse: 84.7340\n",
            "Epoch 8/100\n",
            "9/9 [==============================] - 0s 2ms/step - loss: 84.8644 - mse: 84.8644\n",
            "Epoch 9/100\n",
            "9/9 [==============================] - 0s 3ms/step - loss: 84.7432 - mse: 84.7432\n",
            "Epoch 10/100\n",
            "9/9 [==============================] - 0s 2ms/step - loss: 84.7543 - mse: 84.7543\n",
            "Epoch 11/100\n",
            "9/9 [==============================] - 0s 2ms/step - loss: 84.8212 - mse: 84.8212\n",
            "Epoch 12/100\n",
            "9/9 [==============================] - 0s 3ms/step - loss: 85.7998 - mse: 85.7998\n",
            "Epoch 13/100\n",
            "9/9 [==============================] - 0s 3ms/step - loss: 84.8328 - mse: 84.8328\n",
            "Epoch 14/100\n",
            "9/9 [==============================] - 0s 4ms/step - loss: 84.7061 - mse: 84.7061\n",
            "Epoch 15/100\n",
            "9/9 [==============================] - 0s 2ms/step - loss: 84.8963 - mse: 84.8963\n",
            "Epoch 16/100\n",
            "9/9 [==============================] - 0s 2ms/step - loss: 84.7636 - mse: 84.7636\n",
            "Epoch 17/100\n",
            "9/9 [==============================] - 0s 3ms/step - loss: 84.7775 - mse: 84.7775\n",
            "Epoch 18/100\n",
            "9/9 [==============================] - 0s 3ms/step - loss: 85.2176 - mse: 85.2176\n",
            "Epoch 19/100\n",
            "9/9 [==============================] - 0s 2ms/step - loss: 84.8524 - mse: 84.8524\n",
            "Epoch 20/100\n",
            "9/9 [==============================] - 0s 2ms/step - loss: 84.7740 - mse: 84.7740\n",
            "Epoch 21/100\n",
            "9/9 [==============================] - 0s 2ms/step - loss: 85.0596 - mse: 85.0596\n",
            "Epoch 22/100\n",
            "9/9 [==============================] - 0s 2ms/step - loss: 84.7420 - mse: 84.7420\n",
            "Epoch 23/100\n",
            "9/9 [==============================] - 0s 2ms/step - loss: 84.9917 - mse: 84.9917\n",
            "Epoch 24/100\n",
            "9/9 [==============================] - 0s 2ms/step - loss: 84.8619 - mse: 84.8619\n",
            "Epoch 25/100\n",
            "9/9 [==============================] - 0s 2ms/step - loss: 85.2361 - mse: 85.2361\n",
            "Epoch 26/100\n",
            "9/9 [==============================] - 0s 2ms/step - loss: 84.7449 - mse: 84.7449\n",
            "Epoch 27/100\n",
            "9/9 [==============================] - 0s 3ms/step - loss: 84.9446 - mse: 84.9446\n",
            "Epoch 28/100\n",
            "9/9 [==============================] - 0s 2ms/step - loss: 84.9398 - mse: 84.9398\n",
            "Epoch 29/100\n",
            "9/9 [==============================] - 0s 2ms/step - loss: 84.7894 - mse: 84.7894\n",
            "Epoch 30/100\n",
            "9/9 [==============================] - 0s 2ms/step - loss: 84.7388 - mse: 84.7388\n",
            "Epoch 31/100\n",
            "9/9 [==============================] - 0s 2ms/step - loss: 84.9337 - mse: 84.9337\n",
            "Epoch 32/100\n",
            "9/9 [==============================] - 0s 2ms/step - loss: 84.9344 - mse: 84.9344\n",
            "Epoch 33/100\n",
            "9/9 [==============================] - 0s 2ms/step - loss: 84.8068 - mse: 84.8068\n",
            "Epoch 34/100\n",
            "9/9 [==============================] - 0s 3ms/step - loss: 84.9591 - mse: 84.9591\n",
            "Epoch 35/100\n",
            "9/9 [==============================] - 0s 2ms/step - loss: 84.6834 - mse: 84.6834\n",
            "Epoch 36/100\n",
            "9/9 [==============================] - 0s 2ms/step - loss: 85.4715 - mse: 85.4715\n",
            "Epoch 37/100\n",
            "9/9 [==============================] - 0s 2ms/step - loss: 85.2131 - mse: 85.2131\n",
            "Epoch 38/100\n",
            "9/9 [==============================] - 0s 2ms/step - loss: 84.7599 - mse: 84.7599\n",
            "Epoch 39/100\n",
            "9/9 [==============================] - 0s 3ms/step - loss: 85.2632 - mse: 85.2632\n",
            "Epoch 40/100\n",
            "9/9 [==============================] - 0s 2ms/step - loss: 84.9209 - mse: 84.9209\n",
            "Epoch 41/100\n",
            "9/9 [==============================] - 0s 3ms/step - loss: 84.6914 - mse: 84.6914\n",
            "Epoch 42/100\n",
            "9/9 [==============================] - 0s 3ms/step - loss: 84.6959 - mse: 84.6959\n",
            "Epoch 43/100\n",
            "9/9 [==============================] - 0s 2ms/step - loss: 84.8625 - mse: 84.8625\n",
            "Epoch 44/100\n",
            "9/9 [==============================] - 0s 3ms/step - loss: 84.8629 - mse: 84.8629\n",
            "Epoch 45/100\n",
            "9/9 [==============================] - 0s 2ms/step - loss: 84.9778 - mse: 84.9778\n",
            "Epoch 46/100\n",
            "9/9 [==============================] - 0s 2ms/step - loss: 85.0050 - mse: 85.0050\n",
            "Epoch 47/100\n",
            "9/9 [==============================] - 0s 3ms/step - loss: 84.8622 - mse: 84.8622\n",
            "Epoch 48/100\n",
            "9/9 [==============================] - 0s 2ms/step - loss: 84.9586 - mse: 84.9586\n",
            "Epoch 49/100\n",
            "9/9 [==============================] - 0s 3ms/step - loss: 85.2660 - mse: 85.2660\n",
            "Epoch 50/100\n",
            "9/9 [==============================] - 0s 2ms/step - loss: 84.7861 - mse: 84.7861\n",
            "Epoch 51/100\n",
            "9/9 [==============================] - 0s 2ms/step - loss: 85.0734 - mse: 85.0734\n",
            "Epoch 52/100\n",
            "9/9 [==============================] - 0s 2ms/step - loss: 84.8693 - mse: 84.8693\n",
            "Epoch 53/100\n",
            "9/9 [==============================] - 0s 2ms/step - loss: 85.0654 - mse: 85.0654\n",
            "Epoch 54/100\n",
            "9/9 [==============================] - 0s 2ms/step - loss: 85.0100 - mse: 85.0100\n",
            "Epoch 55/100\n",
            "9/9 [==============================] - 0s 2ms/step - loss: 84.8447 - mse: 84.8447\n",
            "Epoch 56/100\n",
            "9/9 [==============================] - 0s 2ms/step - loss: 84.9707 - mse: 84.9707\n",
            "Epoch 57/100\n",
            "9/9 [==============================] - 0s 3ms/step - loss: 84.9784 - mse: 84.9784\n",
            "Epoch 58/100\n",
            "9/9 [==============================] - 0s 3ms/step - loss: 85.0870 - mse: 85.0870\n",
            "Epoch 59/100\n",
            "9/9 [==============================] - 0s 2ms/step - loss: 84.9205 - mse: 84.9205\n",
            "Epoch 60/100\n",
            "9/9 [==============================] - 0s 3ms/step - loss: 84.7869 - mse: 84.7869\n",
            "Epoch 61/100\n",
            "9/9 [==============================] - 0s 2ms/step - loss: 85.1578 - mse: 85.1578\n",
            "Epoch 62/100\n",
            "9/9 [==============================] - 0s 2ms/step - loss: 84.8685 - mse: 84.8685\n",
            "Epoch 63/100\n",
            "9/9 [==============================] - 0s 2ms/step - loss: 85.5965 - mse: 85.5965\n",
            "Epoch 64/100\n",
            "9/9 [==============================] - 0s 2ms/step - loss: 86.3335 - mse: 86.3335\n",
            "Epoch 65/100\n",
            "9/9 [==============================] - 0s 2ms/step - loss: 84.8788 - mse: 84.8788\n",
            "Epoch 66/100\n",
            "9/9 [==============================] - 0s 2ms/step - loss: 84.6546 - mse: 84.6546\n",
            "Epoch 67/100\n",
            "9/9 [==============================] - 0s 2ms/step - loss: 84.8409 - mse: 84.8409\n",
            "Epoch 68/100\n",
            "9/9 [==============================] - 0s 2ms/step - loss: 87.5912 - mse: 87.5912\n",
            "Epoch 69/100\n",
            "9/9 [==============================] - 0s 2ms/step - loss: 85.2488 - mse: 85.2488\n",
            "Epoch 70/100\n",
            "9/9 [==============================] - 0s 2ms/step - loss: 84.6827 - mse: 84.6827\n",
            "Epoch 71/100\n",
            "9/9 [==============================] - 0s 2ms/step - loss: 84.7985 - mse: 84.7985\n",
            "Epoch 72/100\n",
            "9/9 [==============================] - 0s 2ms/step - loss: 84.7076 - mse: 84.7076\n",
            "Epoch 73/100\n",
            "9/9 [==============================] - 0s 2ms/step - loss: 85.4201 - mse: 85.4201\n",
            "Epoch 74/100\n",
            "9/9 [==============================] - 0s 2ms/step - loss: 84.8712 - mse: 84.8712\n",
            "Epoch 75/100\n",
            "9/9 [==============================] - 0s 2ms/step - loss: 85.1207 - mse: 85.1207\n",
            "Epoch 76/100\n",
            "9/9 [==============================] - 0s 2ms/step - loss: 85.0378 - mse: 85.0378\n",
            "Epoch 77/100\n",
            "9/9 [==============================] - 0s 3ms/step - loss: 84.9647 - mse: 84.9647\n",
            "Epoch 78/100\n",
            "9/9 [==============================] - 0s 2ms/step - loss: 84.7712 - mse: 84.7712\n",
            "Epoch 79/100\n",
            "9/9 [==============================] - 0s 2ms/step - loss: 84.9005 - mse: 84.9005\n",
            "Epoch 80/100\n",
            "9/9 [==============================] - 0s 2ms/step - loss: 85.0590 - mse: 85.0590\n",
            "Epoch 81/100\n",
            "9/9 [==============================] - 0s 3ms/step - loss: 84.9590 - mse: 84.9590\n",
            "Epoch 82/100\n",
            "9/9 [==============================] - 0s 2ms/step - loss: 85.1873 - mse: 85.1873\n",
            "Epoch 83/100\n",
            "9/9 [==============================] - 0s 3ms/step - loss: 84.7617 - mse: 84.7617\n",
            "Epoch 84/100\n",
            "9/9 [==============================] - 0s 2ms/step - loss: 84.8910 - mse: 84.8910\n",
            "Epoch 85/100\n",
            "9/9 [==============================] - 0s 2ms/step - loss: 84.6582 - mse: 84.6582\n",
            "Epoch 86/100\n",
            "9/9 [==============================] - 0s 2ms/step - loss: 84.8350 - mse: 84.8350\n",
            "Epoch 87/100\n",
            "9/9 [==============================] - 0s 2ms/step - loss: 84.8383 - mse: 84.8383\n",
            "Epoch 88/100\n",
            "9/9 [==============================] - 0s 2ms/step - loss: 84.7595 - mse: 84.7595\n",
            "Epoch 89/100\n",
            "9/9 [==============================] - 0s 2ms/step - loss: 84.9445 - mse: 84.9445\n",
            "Epoch 90/100\n",
            "9/9 [==============================] - 0s 2ms/step - loss: 84.7256 - mse: 84.7256\n",
            "Epoch 91/100\n",
            "9/9 [==============================] - 0s 2ms/step - loss: 85.0268 - mse: 85.0268\n",
            "Epoch 92/100\n",
            "9/9 [==============================] - 0s 2ms/step - loss: 84.7559 - mse: 84.7559\n",
            "Epoch 93/100\n",
            "9/9 [==============================] - 0s 2ms/step - loss: 84.6762 - mse: 84.6762\n",
            "Epoch 94/100\n",
            "9/9 [==============================] - 0s 2ms/step - loss: 85.7108 - mse: 85.7108\n",
            "Epoch 95/100\n",
            "9/9 [==============================] - 0s 2ms/step - loss: 84.8248 - mse: 84.8248\n",
            "Epoch 96/100\n",
            "9/9 [==============================] - 0s 3ms/step - loss: 85.0794 - mse: 85.0794\n",
            "Epoch 97/100\n",
            "9/9 [==============================] - 0s 3ms/step - loss: 84.7469 - mse: 84.7469\n",
            "Epoch 98/100\n",
            "9/9 [==============================] - 0s 2ms/step - loss: 84.7906 - mse: 84.7906\n",
            "Epoch 99/100\n",
            "9/9 [==============================] - 0s 3ms/step - loss: 84.9426 - mse: 84.9426\n",
            "Epoch 100/100\n",
            "9/9 [==============================] - 0s 4ms/step - loss: 84.7411 - mse: 84.7411\n"
          ]
        },
        {
          "output_type": "execute_result",
          "data": {
            "text/plain": [
              "<keras.callbacks.History at 0x7fd1e2c82090>"
            ]
          },
          "metadata": {},
          "execution_count": 13
        }
      ]
    },
    {
      "cell_type": "code",
      "source": [
        "score=model.evaluate(x_test,y_test,batch_size=128)\n",
        "print(score)"
      ],
      "metadata": {
        "colab": {
          "base_uri": "https://localhost:8080/"
        },
        "id": "7tY4OXljP-ni",
        "outputId": "f94a9ba2-5ad4-446f-abb3-a30733de6fd1"
      },
      "execution_count": 14,
      "outputs": [
        {
          "output_type": "stream",
          "name": "stdout",
          "text": [
            "1/1 [==============================] - 0s 154ms/step - loss: 83.2992 - mse: 83.2992\n",
            "[83.29924011230469, 83.29924011230469]\n"
          ]
        }
      ]
    }
  ]
}