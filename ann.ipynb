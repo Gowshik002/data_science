{
  "nbformat": 4,
  "nbformat_minor": 0,
  "metadata": {
    "colab": {
      "name": "ann.ipynb",
      "provenance": [],
      "collapsed_sections": [],
      "authorship_tag": "ABX9TyOp53ElyP3QJsM0MXe+TyT1"
    },
    "kernelspec": {
      "name": "python3",
      "display_name": "Python 3"
    },
    "language_info": {
      "name": "python"
    }
  },
  "cells": [
    {
      "cell_type": "code",
      "execution_count": 1,
      "metadata": {
        "id": "lTzYOEbte-vC"
      },
      "outputs": [],
      "source": [
        "import tensorflow as tf\n",
        "import numpy as np"
      ]
    },
    {
      "cell_type": "code",
      "source": [
        "from tensorflow.keras.datasets import mnist\n",
        "(x_train,y_train),(x_test,y_test)=mnist.load_data()"
      ],
      "metadata": {
        "colab": {
          "base_uri": "https://localhost:8080/"
        },
        "id": "U8iY-30Te_uz",
        "outputId": "4359371e-8fdb-43ae-a1ee-c2cd5d2c7415"
      },
      "execution_count": 2,
      "outputs": [
        {
          "output_type": "stream",
          "name": "stdout",
          "text": [
            "Downloading data from https://storage.googleapis.com/tensorflow/tf-keras-datasets/mnist.npz\n",
            "11493376/11490434 [==============================] - 0s 0us/step\n",
            "11501568/11490434 [==============================] - 0s 0us/step\n"
          ]
        }
      ]
    },
    {
      "cell_type": "code",
      "source": [
        "def get_batch(x_data,y_data,batch_size):\n",
        "  idxs=np.random.randint(0,len(y_data),batch_size)\n",
        "  return(x_data[idxs,:,:],y_data[idxs])"
      ],
      "metadata": {
        "id": "BvUh-1ilfD7A"
      },
      "execution_count": 3,
      "outputs": []
    },
    {
      "cell_type": "code",
      "source": [
        "from numpy import random\n",
        "epochs=12\n",
        "batch_size=100\n",
        "\n",
        "#normalize the input image dividing by 255.0\n",
        "x_train=x_train/255.0\n",
        "x_test=x_test/255.0\n",
        "\n",
        "#convert x_test to tensor to pass through model (train data will be converted to\n",
        "#tensors on the fly )\n",
        "x_test=tf.Variable(x_test)\n",
        "\n",
        "#now declare the weights connecting the hidden layer\n",
        "w1=tf.Variable(tf.random.normal([784, 300], stddev=0.03), name='w1')\n",
        "b1=tf.Variable(tf.random.normal([300]), name='b1')\n",
        "\n",
        "#and the weights connecting the hidden layer to output layer\n",
        "w2=tf.Variable(tf.random.normal([300, 10], stddev=0.03), name='w2')\n",
        "b2=tf.Variable(tf.random.normal([10]), name='b2')"
      ],
      "metadata": {
        "id": "ZrBGObCKfGVp"
      },
      "execution_count": 23,
      "outputs": []
    },
    {
      "cell_type": "code",
      "source": [
        "def nn_model(x_input,w1,b1,w2,b2):\n",
        "\n",
        "  #flatten the image from 28 x 28 to 784\n",
        "  x_input=tf.reshape(x_input,(x_input.shape[0],-1))\n",
        "  x=tf.add(tf.matmul(tf.cast(x_input,tf.float32),w1),b1)\n",
        "  x=tf.nn.relu(x)\n",
        "  logits=tf.add(tf.matmul(x,w2),b2)\n",
        "  return logits\n",
        "\n",
        "def loss_fn(logits, labels):\n",
        "  cross_entropy=tf.reduce_mean(tf.nn.softmax_cross_entropy_with_logits(labels=labels,logits=logits))\n",
        "  return cross_entropy"
      ],
      "metadata": {
        "id": "QBSdomNofJm5"
      },
      "execution_count": 24,
      "outputs": []
    },
    {
      "cell_type": "code",
      "source": [
        "#setup the optimizer\n",
        "optimizer=tf.keras.optimizers.Adam()\n",
        "\n",
        "total_batch = int(len(y_train) / batch_size)\n",
        "for epoch in range(epochs):\n",
        "  avg_loss=0\n",
        "  for i in range(total_batch):\n",
        "    batch_x,batch_y = get_batch(x_train, y_train, batch_size=batch_size)\n",
        "\n",
        "    #create tensors\n",
        "    batch_x = tf.Variable(batch_x)\n",
        "    batch_y = tf.Variable(batch_y)\n",
        "    #create one hot vector\n",
        "    batch_y = tf.one_hot(batch_y, 10)\n",
        "    with tf.GradientTape() as tape:\n",
        "      logits = nn_model(batch_x, w1, b1, w2, b2)\n",
        "      loss = loss_fn(logits,batch_y)\n",
        "    gradients = tape.gradient(loss,[w1,b1,w2,b2])\n",
        "    optimizer.apply_gradients(zip(gradients,[w1,b1,w2,b2]))\n",
        "    avg_loss += loss/total_batch\n",
        "    \n",
        "  test_logits=nn_model(x_test,w1,b1,w2,b2)\n",
        "  max_idxs=tf.argmax(test_logits,axis=1)\n",
        "  test_acc=np.sum(max_idxs.numpy()== y_test) / len(y_test)\n",
        "  print(f\"Epoch:{epoch+1},   loss={avg_loss: .3f},    test set accuracy={test_acc*100:.3f}%\")\n",
        "\n",
        "print(\"\\nTraining Complete!\")"
      ],
      "metadata": {
        "colab": {
          "base_uri": "https://localhost:8080/"
        },
        "id": "B1OzN4oifPO_",
        "outputId": "c2b3bb12-78cd-448f-af2f-d098f89db4e0"
      },
      "execution_count": 25,
      "outputs": [
        {
          "output_type": "stream",
          "name": "stdout",
          "text": [
            "Epoch:1,   loss= 2.312,    test set accuracy=9.580%\n",
            "Epoch:2,   loss= 2.308,    test set accuracy=10.320%\n",
            "Epoch:3,   loss= 2.308,    test set accuracy=10.280%\n",
            "Epoch:4,   loss= 2.309,    test set accuracy=9.580%\n",
            "Epoch:5,   loss= 2.308,    test set accuracy=9.820%\n",
            "Epoch:6,   loss= 2.308,    test set accuracy=9.580%\n",
            "Epoch:7,   loss= 2.306,    test set accuracy=10.280%\n",
            "Epoch:8,   loss= 2.304,    test set accuracy=11.350%\n",
            "Epoch:9,   loss= 2.303,    test set accuracy=11.350%\n",
            "Epoch:10,   loss= 2.300,    test set accuracy=9.580%\n",
            "Epoch:11,   loss= 2.296,    test set accuracy=11.210%\n",
            "Epoch:12,   loss= 2.287,    test set accuracy=20.570%\n",
            "\n",
            "Training Complete!\n"
          ]
        }
      ]
    }
  ]
}