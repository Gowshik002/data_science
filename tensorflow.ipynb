{
  "nbformat": 4,
  "nbformat_minor": 0,
  "metadata": {
    "colab": {
      "name": "tensorflow.ipynb",
      "provenance": [],
      "authorship_tag": "ABX9TyPJ/7EfYkfi4rdgaqC6vuJk"
    },
    "kernelspec": {
      "name": "python3",
      "display_name": "Python 3"
    },
    "language_info": {
      "name": "python"
    }
  },
  "cells": [
    {
      "cell_type": "code",
      "execution_count": null,
      "metadata": {
        "colab": {
          "base_uri": "https://localhost:8080/"
        },
        "id": "eNuqXF5L-LoG",
        "outputId": "00298557-1541-4aec-b8fb-cf51189fd737"
      },
      "outputs": [
        {
          "output_type": "stream",
          "name": "stdout",
          "text": [
            "Tensor: tf.Tensor(b'hello world', shape=(), dtype=string)\n",
            "value: b'hello world'\n"
          ]
        }
      ],
      "source": [
        "import tensorflow as tf\n",
        "sample=tf.constant(\"hello world\")\n",
        "print(\"Tensor:\",sample)\n",
        "print(\"value:\",sample.numpy())"
      ]
    },
    {
      "cell_type": "code",
      "source": [
        "a=tf.ones([2,3])\n",
        "print(a)\n",
        "a=tf.Variable(a)\n",
        "#print(a)\n",
        "a[0,0].assign(10.45)\n",
        "b=a.read_value()\n",
        "print(b)"
      ],
      "metadata": {
        "colab": {
          "base_uri": "https://localhost:8080/"
        },
        "id": "dA2DGATp-iUx",
        "outputId": "2f8147fb-3473-42c0-b2e0-7dc04b68f9af"
      },
      "execution_count": null,
      "outputs": [
        {
          "output_type": "stream",
          "name": "stdout",
          "text": [
            "tf.Tensor(\n",
            "[[1. 1. 1.]\n",
            " [1. 1. 1.]], shape=(2, 3), dtype=float32)\n",
            "tf.Tensor(\n",
            "[[10.45  1.    1.  ]\n",
            " [ 1.    1.    1.  ]], shape=(2, 3), dtype=float32)\n"
          ]
        }
      ]
    },
    {
      "cell_type": "markdown",
      "source": [
        "\\#### =========== add , multi , div , etc ..... =========== #### "
      ],
      "metadata": {
        "id": "7SXSzExWCG_F"
      }
    },
    {
      "cell_type": "code",
      "source": [
        "a=tf.constant(2)\n",
        "b=tf.constant(3)"
      ],
      "metadata": {
        "id": "uB9nZGjQCCKy"
      },
      "execution_count": null,
      "outputs": []
    },
    {
      "cell_type": "code",
      "source": [
        "print(\"a+b:\",a.numpy()+b.numpy())\n",
        "print(\"addition with constants:\",a+b)\n",
        "print(\"a*b:\",a.numpy()*b.numpy())\n",
        "print(\"multiplication with constants:\",a*b)\n",
        "print(\"multiplication with constants:\",tf.multiply(a,b))"
      ],
      "metadata": {
        "colab": {
          "base_uri": "https://localhost:8080/"
        },
        "id": "kCU2aIx7Dydq",
        "outputId": "775ab3b1-97fc-4b43-951d-f2aeabb18786"
      },
      "execution_count": null,
      "outputs": [
        {
          "output_type": "stream",
          "name": "stdout",
          "text": [
            "a+b: 5\n",
            "addition with constants: tf.Tensor(5, shape=(), dtype=int32)\n",
            "a*b: 6\n",
            "multiplication with constants: tf.Tensor(6, shape=(), dtype=int32)\n",
            "multiplication with constants: tf.Tensor(6, shape=(), dtype=int32)\n"
          ]
        }
      ]
    },
    {
      "cell_type": "code",
      "source": [
        "matrix1=tf.constant([[3,3]])\n",
        "matrix2=tf.constant([[2],[2]])\n",
        "product=tf.matmul(matrix1,matrix2)\n",
        "print(\"brodcast matrix in multiplication:\",matrix1,matrix2)\n",
        "print(\"multiplication of matrix:\",product)"
      ],
      "metadata": {
        "id": "c4c_Pun0ElrR",
        "colab": {
          "base_uri": "https://localhost:8080/"
        },
        "outputId": "94ca8727-d6d9-4e01-d5a6-bfb544714f7e"
      },
      "execution_count": 41,
      "outputs": [
        {
          "output_type": "stream",
          "name": "stdout",
          "text": [
            "brodcast matrix in multiplication: tf.Tensor([[3 3]], shape=(1, 2), dtype=int32) tf.Tensor(\n",
            "[[2]\n",
            " [2]], shape=(2, 1), dtype=int32)\n",
            "multiplication of matrix: tf.Tensor([[12]], shape=(1, 1), dtype=int32)\n"
          ]
        }
      ]
    },
    {
      "cell_type": "markdown",
      "source": [
        "#### ================cast operations================ ####"
      ],
      "metadata": {
        "id": "boWtcBQdMVg_"
      }
    },
    {
      "cell_type": "code",
      "source": [
        "a=tf.convert_to_tensor(2)\n",
        "b=tf.cast(a,tf.int32)\n",
        "print(a,b)"
      ],
      "metadata": {
        "colab": {
          "base_uri": "https://localhost:8080/"
        },
        "id": "HJFNHKfEMZsV",
        "outputId": "da301525-e541-4c74-93af-e03e64534b4b"
      },
      "execution_count": 45,
      "outputs": [
        {
          "output_type": "stream",
          "name": "stdout",
          "text": [
            "tf.Tensor(2, shape=(), dtype=int32) tf.Tensor(2, shape=(), dtype=int32)\n"
          ]
        }
      ]
    },
    {
      "cell_type": "markdown",
      "source": [
        "#### =============shape operations============= ####"
      ],
      "metadata": {
        "id": "gBtDMYJ5PbSV"
      }
    },
    {
      "cell_type": "code",
      "source": [
        "a=tf.ones([2,3])\n",
        "print(a.shape[0],a.shape[1])\n",
        "shape=tf.shape(a)\n",
        "print(shape)"
      ],
      "metadata": {
        "colab": {
          "base_uri": "https://localhost:8080/"
        },
        "id": "H-l2FJP-PQFX",
        "outputId": "66ee7fe4-2269-418c-a23f-0bf78b830c62"
      },
      "execution_count": 51,
      "outputs": [
        {
          "output_type": "stream",
          "name": "stdout",
          "text": [
            "2 3\n",
            "tf.Tensor([2 3], shape=(2,), dtype=int32)\n"
          ]
        }
      ]
    }
  ]
}